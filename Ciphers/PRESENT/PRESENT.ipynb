{
 "cells": [
  {
   "cell_type": "markdown",
   "id": "7ea6185c-131f-4988-a4b3-08cde1c771f8",
   "metadata": {
    "jp-MarkdownHeadingCollapsed": true
   },
   "source": [
    "# Model construction"
   ]
  },
  {
   "cell_type": "code",
   "execution_count": 1,
   "id": "081aad3e-d8b2-4b3a-b08e-1817ab17b2b0",
   "metadata": {},
   "outputs": [],
   "source": [
    "import sys\n",
    "sys.path.append(\"../../.\")\n",
    "\n",
    "NThreads = 16"
   ]
  },
  {
   "cell_type": "code",
   "execution_count": 2,
   "id": "208d755a-b251-49d5-af42-e4cf47820360",
   "metadata": {},
   "outputs": [],
   "source": [
    "from Construction.Function import Function\n",
    "from Construction.Components import SBox, addKey, ID, get_IDn, XOR, FakeComponent\n",
    "from Construction.CompoundFunction import CompoundFunction, INPUT_ID, OUTPUT_ID\n",
    "from Construction.IteratedCipher import construct_iterated_cipher\n",
    "from Modelling.PropModels import UT_matrix\n",
    "from itertools import product"
   ]
  },
  {
   "cell_type": "code",
   "execution_count": 3,
   "id": "1f211e5c-f279-49bd-9205-01b243746377",
   "metadata": {},
   "outputs": [],
   "source": [
    "# components\n",
    "PRESENT_sbox = SBox(4, 4, [0xC, 5, 6, 0xB, 9, 0, 0xA, 0xD, 3, 0xE, 0xF, 8, 4, 7, 1, 2])\n",
    "PRESENT_bitpermutation = [0, 16, 32, 48, 1, 17, 33, 49, 2, 18, 34, 50, 3, 19, 35, 51, 4, 20, 36, 52, 5, 21, 37, 53, 6, 22, 38, 54, 7, 23, 39, 55, 8, 24, 40, 56, 9, 25, 41, 57, 10, 26, 42, 58, 11, 27, 43, 59, 12, 28, 44, 60, 13, 29, 45, 61, 14, 30, 46, 62, 15, 31, 47, 63]"
   ]
  },
  {
   "cell_type": "code",
   "execution_count": 4,
   "id": "e4cef97a-ab4e-4693-b152-468715c83c7d",
   "metadata": {},
   "outputs": [],
   "source": [
    "# construct round function\n",
    "PRESENT_roundfunction = CompoundFunction(64, 64)\n",
    "ids = []\n",
    "# add sboxes\n",
    "for _ in range(16):\n",
    "    ids.append(PRESENT_roundfunction.add_component(PRESENT_sbox))\n",
    "# connect input to components\n",
    "for i in range(64):\n",
    "    PRESENT_roundfunction.connect_components(INPUT_ID, i, ids[i//4], i%4)\n",
    "# connect components to output\n",
    "for i in range(64):\n",
    "    PRESENT_roundfunction.connect_components(ids[i//4], i%4, OUTPUT_ID, PRESENT_bitpermutation[i])\n",
    "    \n",
    "key_addition = CompoundFunction(64, 64)\n",
    "for i in range(64):\n",
    "    xorid = key_addition.add_component(XOR)\n",
    "    key_addition.connect_components(INPUT_ID, i, xorid, 0)\n",
    "    key_addition.connect_to_key(xorid, 1)\n",
    "    key_addition.connect_components(xorid, 0, OUTPUT_ID, i)"
   ]
  },
  {
   "cell_type": "code",
   "execution_count": 5,
   "id": "1f2123ba-7e42-4636-8e7b-d737c5e753bd",
   "metadata": {},
   "outputs": [],
   "source": [
    "def get_custom_key_add(m):\n",
    "    key_addition = CompoundFunction(64, 64)\n",
    "    for i in range(64):\n",
    "        if (m >> i) & 1:\n",
    "            xorid = key_addition.add_component(XOR)\n",
    "            key_addition.connect_components(INPUT_ID, i, xorid, 0)\n",
    "            key_addition.connect_to_key(xorid, 1)\n",
    "            key_addition.connect_components(xorid, 0, OUTPUT_ID, i)\n",
    "        else:\n",
    "            cid = key_addition.add_component(ID)\n",
    "            key_addition.connect_components(INPUT_ID, i, cid, 0)\n",
    "            key_addition.connect_components(cid, 0, OUTPUT_ID, i)\n",
    "    return key_addition\n",
    "    \n",
    "def get_short_key_add(n):\n",
    "    key_addition = CompoundFunction(n, n)\n",
    "    for i in range(n):\n",
    "        xorid = key_addition.add_component(XOR)\n",
    "        key_addition.connect_components(INPUT_ID, i, xorid, 0)\n",
    "        key_addition.connect_to_key(xorid, 1)\n",
    "        key_addition.connect_components(xorid, 0, OUTPUT_ID, i)\n",
    "    return key_addition"
   ]
  },
  {
   "cell_type": "code",
   "execution_count": 6,
   "id": "bef18a94-5dce-45e0-ac1c-12087c02fec8",
   "metadata": {},
   "outputs": [
    {
     "name": "stdout",
     "output_type": "stream",
     "text": [
      "[[ 1  0  0  0  0  0  0  0  0  0  0  0  0  0  0  0]\n",
      " [ 0  1  0  0  1 -2 -1  2  1 -2  0  0 -2  4  2 -4]\n",
      " [ 0  0  1  0  0  0  0 -1  1  0 -1 -1 -1  1  0  2]\n",
      " [ 0  0  0  1  0  0  0 -1  1 -1  0 -1 -1  2  0  0]\n",
      " [ 1  0  0 -1 -1  0  0  2 -1  1  1 -1  2 -1 -2  0]\n",
      " [ 0  1  0 -1  0 -1  0  2  0 -1  1  0  0  2 -1 -2]\n",
      " [ 0  0  1 -1  0  0 -1  1  0  1  0 -1  0  0  0  0]\n",
      " [ 0  0  0  0  0  0  0  0  0  0  1 -1  0  1 -1  0]\n",
      " [ 1 -1 -1  2  0  0  1 -1 -1  2  2 -3  0 -1 -2  2]\n",
      " [ 0  0  0  1  1 -1 -1  1  0  0  1 -2 -1  1  0  0]\n",
      " [ 0  0  0  1  0  0  1 -2  0  1  1 -3  0 -1 -2  4]\n",
      " [ 0  0  0  1  0  0  0 -1  0  0  1 -2  0  0 -1  2]\n",
      " [ 1 -1 -1  1 -1  1  1  0 -1  2  2 -3  1 -2 -2  2]\n",
      " [ 0  0  0  0  0  0  0  1  0  0  1 -1  0  0 -1  0]\n",
      " [ 0  0  0  0  0  0  0  0  0  1  1 -2  0 -1 -1  2]\n",
      " [ 0  0  0  0  0  0  0  0  0  0  1 -1  0  0 -1  1]]\n"
     ]
    }
   ],
   "source": [
    "from functools import partial\n",
    "\n",
    "def bit_permutation(u):\n",
    "    res = 0\n",
    "    for i in range(64):\n",
    "        res |= ((u>>i) & 1)<<PRESENT_bitpermutation[i]\n",
    "    return res\n",
    "\n",
    "def invert_bit_permutation(v):\n",
    "    res = 0\n",
    "    for i, j in enumerate(PRESENT_bitpermutation):\n",
    "        res |= ((v>>j) & 1)<<i\n",
    "    return res\n",
    "\n",
    "def cor_key_add(u, v, k, m=2**64-1):\n",
    "    u_ = 0\n",
    "    c = 0\n",
    "    for i in range(64):\n",
    "        if (m >> i) & 1 == 1:\n",
    "            u_ |= ((u >> i) & 1) << c\n",
    "            c += 1\n",
    "    return (-2)**((k & u_).bit_count())\n",
    "\n",
    "def cor_short_key_add(u, v, k, n):\n",
    "    return (-2)**((k & u).bit_count())\n",
    "\n",
    "def cor_sbox(u, v, k, UTm, m=2**64-1):\n",
    "    vinv = invert_bit_permutation(v)\n",
    "    correlation = 1\n",
    "    for i in range(16):\n",
    "        correlation *= UTm[((vinv & m)>>(4*i))&15, ((u & m)>>(4*i))&15]\n",
    "    return correlation\n",
    "\n",
    "def custom_cor_sbox(u, v, k, UTms, custom_bit_perm):\n",
    "    vinv = 0\n",
    "    for i, j in enumerate(custom_bit_perm):\n",
    "        vinv |= ((v>>j) & 1)<<i\n",
    "    correlation = 1\n",
    "    for UTm, n, m in UTms:\n",
    "        correlation *= UTm[vinv & (2**m-1), u & (2**n-1)]\n",
    "        u >>= n\n",
    "        vinv >>= m\n",
    "    return correlation\n",
    "\n",
    "cor_sbox_init = partial(cor_sbox, UTm = UT_matrix(PRESENT_sbox, 4, 4))\n",
    "print(UT_matrix(PRESENT_sbox, 4, 4))"
   ]
  },
  {
   "cell_type": "code",
   "execution_count": 7,
   "id": "c3786f68-a9f1-4a60-a1c9-028aa665c3c9",
   "metadata": {},
   "outputs": [],
   "source": [
    "from pysat.formula import IDPool\n",
    "from Modelling.PropModels import to_ord\n",
    "import numpy as np\n",
    "from LogicOptimisation.QMC import QMC_optimise_CNF\n",
    "from bitarrays import bitarray\n",
    "from bitarrays.bitarray import BitArray\n",
    "from bitarrays.bitset import BitSet\n",
    "from math import inf\n",
    "\n",
    "def UT_matrix_multiply_out_precursor_set(u):\n",
    "    M = UT_matrix(PRESENT_sbox, 4, 4)\n",
    "    N = np.zeros((16, 2**(4-u.bit_count())), dtype='longlong')\n",
    "    c = 0\n",
    "    for x in range(16):\n",
    "        if x & u == 0:\n",
    "            v = np.ones((1, 1), dtype='longlong')\n",
    "            for i in range(4):\n",
    "                if ((u >> i) & 1):\n",
    "                    v = np.kron(np.asarray([[2], [1]], dtype='longlong'), v)\n",
    "                elif ((x >> i) & 1):\n",
    "                    v = np.kron(np.asarray([[0], [1]], dtype='longlong'), v)\n",
    "                else:\n",
    "                    v = np.kron(np.asarray([[1], [0]], dtype='longlong'), v)\n",
    "            N[:, c] = (M @ v)[:, 0]\n",
    "            c += 1\n",
    "    return N\n",
    "\n",
    "def get_custom_model(M, threads = NThreads):\n",
    "    N = np.vectorize(to_ord)(M)\n",
    "    n_extra_vars = int(np.max(np.ma.masked_invalid(N)))\n",
    "    m = BitSet(M.shape[0]*M.shape[1]*2**n_extra_vars)\n",
    "    for j in range(M.shape[0]):\n",
    "        for i in range(M.shape[1]):\n",
    "            if N[j, i] != inf:\n",
    "                m.set((2**int(N[j, i])-1)*M.shape[0]*M.shape[1] + j*M.shape[1] + i)\n",
    "\n",
    "    dont_care = BitSet(M.shape[0]*M.shape[1]*2**n_extra_vars)\n",
    "    return QMC_optimise_CNF(m, dont_care, threads=threads), n_extra_vars\n",
    "\n",
    "multiplied_out_components = {}\n",
    "def multiply_out_precursor_set(r, u):\n",
    "    global multiplied_out_components\n",
    "    roundfs, cor_evals = [key_addition, PRESENT_roundfunction]*r + [key_addition], [cor_key_add, cor_sbox_init]*r + [cor_key_add]\n",
    "    for n in range(len(roundfs)):\n",
    "        if roundfs[n] is key_addition:\n",
    "            roundfs[n] = get_short_key_add(64 - u.bit_count())\n",
    "            cor_evals[n] = partial(cor_short_key_add, n=64 - u.bit_count())\n",
    "        else:\n",
    "            v = 0\n",
    "            for i in range(64):\n",
    "                if ((u >> (4*(i//4))) & 0xf) == 0xf:\n",
    "                    v |= 1<<i\n",
    "            local2global_bit_map = []\n",
    "            for i in range(64):\n",
    "                if (v >> i) & 1 == 0:\n",
    "                    local2global_bit_map.append(PRESENT_bitpermutation[i])\n",
    "            used_global_bits = sorted(local2global_bit_map)\n",
    "            local_bit_perm = [used_global_bits.index(local2global_bit_map[i]) for i in range(len(local2global_bit_map))]\n",
    "            f = CompoundFunction(64-u.bit_count(), 64-v.bit_count())\n",
    "            UTms= []\n",
    "            offset_input, offset_output = 0, 0\n",
    "            for i in range(16):\n",
    "                ui =  (u >> 4*i) & 0xf\n",
    "                if ui != 0xf:\n",
    "                    M = UT_matrix_multiply_out_precursor_set(ui)\n",
    "                    UTms.append((M, 4-ui.bit_count(), 4))\n",
    "                    if ui not in multiplied_out_components:\n",
    "                        multiplied_out_components[ui] = FakeComponent(4 - ui.bit_count(), 4, *get_custom_model(M))\n",
    "                    fid = f.add_component(multiplied_out_components[ui])\n",
    "                    for j in range(4 - ui.bit_count()):\n",
    "                        f.connect_components(INPUT_ID, j+offset_input, fid, j)\n",
    "                    for j in range(4):\n",
    "                        f.connect_components(fid, j, OUTPUT_ID, local_bit_perm[j+offset_output])\n",
    "                    offset_input += 4 - ui.bit_count()\n",
    "                    offset_output += 4\n",
    "            roundfs[n] = f\n",
    "            cor_evals[n] = partial(custom_cor_sbox, UTms = UTms, custom_bit_perm = local_bit_perm)\n",
    "            u = bit_permutation(v) \n",
    "        if u == 0:\n",
    "            break\n",
    "    return roundfs, cor_evals"
   ]
  },
  {
   "cell_type": "code",
   "execution_count": 8,
   "id": "3d513bfa-9147-498e-a4a1-3c7bc06c059e",
   "metadata": {},
   "outputs": [],
   "source": [
    "from Modelling.Search import search_simple_properties_mod_2\n",
    "from Modelling.Trails import contains_nonzero_trail\n",
    "from functools import partial\n",
    "from Modelling.UT_Trails import get_divisibility_no_trail, get_divisibility_no_key_dependent_trail, get_divisibility_no_key_dependence, get_divisibility_of_key_dependence_no_trail\n",
    "from time import time\n",
    "from pysat.formula import IDPool\n",
    "from pysat.card import CardEnc, EncType\n",
    "from Modelling.ExactComputation import compute_exact_correlation_mod, compute_exact_correlation_mod_var\n",
    "from functools import reduce\n",
    "from time import time\n",
    "from multiprocessing.pool import Pool\n",
    "from functools import partial"
   ]
  },
  {
   "cell_type": "markdown",
   "id": "251e3fb8-3c44-4d70-b355-f7b53eb9e1d5",
   "metadata": {
    "jp-MarkdownHeadingCollapsed": true
   },
   "source": [
    "# Analysing properties"
   ]
  },
  {
   "cell_type": "markdown",
   "id": "38a04715-a346-4c42-b96c-7b2106ddc982",
   "metadata": {},
   "source": [
    "## 4 round property\n",
    "input set is `0xf`"
   ]
  },
  {
   "cell_type": "code",
   "execution_count": 9,
   "id": "5a50ba79-e4f3-43fc-98dd-020a25adf483",
   "metadata": {
    "scrolled": true
   },
   "outputs": [
    {
     "name": "stdout",
     "output_type": "stream",
     "text": [
      "0 2 0.47995734214782715\n",
      "1 2 0.4055936336517334\n",
      "2 2 0.3739333152770996\n",
      "3 2 0.37745070457458496\n",
      "4 2 0.37430381774902344\n",
      "5 2 0.37435245513916016\n",
      "6 2 0.40750885009765625\n",
      "7 2 0.3757517337799072\n",
      "8 2 0.37734198570251465\n",
      "9 2 0.37669897079467773\n",
      "10 2 0.377352237701416\n",
      "11 2 0.40819358825683594\n",
      "12 2 0.37549638748168945\n",
      "13 2 0.37894606590270996\n",
      "14 2 0.37750911712646484\n",
      "15 2 0.40736913681030273\n",
      "16 1 0.22021889686584473\n",
      "17 1 0.2516648769378662\n",
      "18 1 0.25035595893859863\n",
      "19 1 0.25050926208496094\n",
      "20 1 0.2202739715576172\n",
      "21 1 0.24806618690490723\n",
      "22 1 0.2504920959472656\n",
      "23 1 0.2500286102294922\n",
      "24 1 0.2496330738067627\n",
      "25 1 0.2216649055480957\n",
      "26 1 0.24988675117492676\n",
      "27 1 0.2513554096221924\n",
      "28 1 0.2513720989227295\n",
      "29 1 0.2487039566040039\n",
      "30 1 0.2208113670349121\n",
      "31 1 0.2485952377319336\n",
      "32 1 0.2511272430419922\n",
      "33 1 0.2513439655303955\n",
      "34 1 0.2500004768371582\n",
      "35 1 0.2197577953338623\n",
      "36 1 0.25242042541503906\n",
      "37 1 0.25417590141296387\n",
      "38 1 0.2530484199523926\n",
      "39 1 0.2497425079345703\n",
      "40 1 0.22060060501098633\n",
      "41 1 0.24997448921203613\n",
      "42 1 0.24980449676513672\n",
      "43 1 0.2512662410736084\n",
      "44 1 0.24984121322631836\n",
      "45 1 0.22073078155517578\n",
      "46 1 0.24862933158874512\n",
      "47 1 0.2521519660949707\n",
      "48 1 0.2514932155609131\n",
      "49 1 0.25108838081359863\n",
      "50 1 0.22201228141784668\n",
      "51 1 0.249589204788208\n",
      "52 1 0.25052595138549805\n",
      "53 1 0.2515747547149658\n",
      "54 1 0.25023603439331055\n",
      "55 1 0.22084331512451172\n",
      "56 1 0.24905776977539062\n",
      "57 1 0.24968194961547852\n",
      "58 1 0.25148940086364746\n",
      "59 1 0.25324225425720215\n",
      "60 1 0.22237086296081543\n",
      "61 1 0.25115513801574707\n",
      "62 1 0.2552621364593506\n",
      "63 1 0.2521238327026367\n"
     ]
    }
   ],
   "source": [
    "r, u = 3, bit_permutation(0xf)\n",
    "rfs = multiply_out_precursor_set(r, u)[0][1::2]\n",
    "key_masks = [2**(rfs[i].input_size)-1 for i in range(r)] + [2**(rfs[-1].output_size)-1]\n",
    "f = construct_iterated_cipher(rfs, key_masks)\n",
    "model, input_vars, output_vars, key_vars, count_vars = f.to_UT_model()\n",
    "for i in range(64):\n",
    "    start = time()\n",
    "    print(i, get_divisibility_no_trail(model, input_vars, output_vars, key_vars, count_vars, 0, 1<<i), time()-start)"
   ]
  },
  {
   "cell_type": "markdown",
   "id": "6c04b067-77cc-4cef-b0eb-95f4a4142535",
   "metadata": {},
   "source": [
    "We can not prove the experimental divisiblity of bits 0, 16, 32, 48 with key-independent trail summation. So key-dependent trail summation is necessary"
   ]
  },
  {
   "cell_type": "code",
   "execution_count": 15,
   "id": "a2a301d8-3cd3-4acd-a2fc-f8532e00a2f5",
   "metadata": {},
   "outputs": [
    {
     "name": "stdout",
     "output_type": "stream",
     "text": [
      "computing propagation forwards\n",
      "forwards propagation resulted in 1 u's after 0.2366185188293457 seconds\n",
      "computing propagation forwards\n",
      "forwards propagation resulted in 4 u's after 0.5005602836608887 seconds\n",
      "computing propagation backwards\n",
      "backwards propagation resulted in 1 v's after 0.23797178268432617 seconds\n",
      "computing propagation backwards\n",
      "backwards propagation resulted in 4 v's after 0.5034835338592529 seconds\n",
      "computing propagation forwards\n",
      "forwards propagation resulted in 4 u's after 0.27051734924316406 seconds\n",
      "computing propagation forwards\n",
      "forwards propagation resulted in 4 u's after 0.26973795890808105 seconds\n",
      "computing propagation forwards\n",
      "forwards propagation resulted in 4 u's after 0.27056455612182617 seconds\n",
      "{} 2.794898748397827\n"
     ]
    }
   ],
   "source": [
    "r, u, v, m = 3, bit_permutation(0xf), 0x1<<0, 3\n",
    "stime = time()\n",
    "rfs, cor_evals = multiply_out_precursor_set(r, u)\n",
    "res = compute_exact_correlation_mod(rfs, cor_evals, 0, v, m, precursor = False, NThreads = NThreads, debug=True)\n",
    "print(res, time()-stime)"
   ]
  },
  {
   "cell_type": "code",
   "execution_count": 10,
   "id": "75d1cbfe-69a0-43bf-8e85-3da2ddf56e66",
   "metadata": {},
   "outputs": [
    {
     "name": "stdout",
     "output_type": "stream",
     "text": [
      "computing propagation forwards\n",
      "forwards propagation resulted in 113 u's after 28.75857973098755 seconds\n",
      "computing propagation backwards\n",
      "backwards propagation resulted in 1 v's after 0.7615277767181396 seconds\n",
      "computing propagation backwards\n",
      "backwards propagation resulted in 6 v's after 1.8258044719696045 seconds\n",
      "computing propagation backwards\n",
      "backwards propagation resulted in 11 v's after 2.523365020751953 seconds\n",
      "computing propagation backwards\n",
      "backwards propagation resulted in 89 v's after 5.146726131439209 seconds\n",
      "computing propagation backwards\n",
      "backwards propagation resulted in 115 v's after 5.964597940444946 seconds\n",
      "computing propagation forwards\n",
      "forwards propagation resulted in 115 u's after 11.517974615097046 seconds\n",
      "{} 58.32411813735962\n"
     ]
    }
   ],
   "source": [
    "r, u, v, m = 3, bit_permutation(0xf), 0x1<<16, 3\n",
    "stime = time()\n",
    "rfs, cor_evals = multiply_out_precursor_set(r, u)\n",
    "res = compute_exact_correlation_mod(rfs, cor_evals, 0, v, m, precursor = False, NThreads = NThreads, debug=True)\n",
    "print(res, time()-stime)"
   ]
  },
  {
   "cell_type": "code",
   "execution_count": 11,
   "id": "61648fb1-ac36-4f3d-a4e3-64de5f4dbd87",
   "metadata": {},
   "outputs": [
    {
     "name": "stdout",
     "output_type": "stream",
     "text": [
      "computing propagation forwards\n",
      "forwards propagation resulted in 113 u's after 29.33456826210022 seconds\n",
      "computing propagation backwards\n",
      "backwards propagation resulted in 1 v's after 0.7819900512695312 seconds\n",
      "computing propagation backwards\n",
      "backwards propagation resulted in 7 v's after 2.049804449081421 seconds\n",
      "computing propagation backwards\n",
      "backwards propagation resulted in 9 v's after 1.9225759506225586 seconds\n",
      "computing propagation backwards\n",
      "backwards propagation resulted in 45 v's after 4.382925987243652 seconds\n",
      "computing propagation backwards\n",
      "backwards propagation resulted in 57 v's after 3.307507038116455 seconds\n",
      "computing propagation backwards\n",
      "backwards propagation resulted in 113 v's after 9.761418581008911 seconds\n",
      "{} 53.420326232910156\n"
     ]
    }
   ],
   "source": [
    "r, u, v, m = 3, bit_permutation(0xf), 0x1<<32, 3\n",
    "stime = time()\n",
    "rfs, cor_evals = multiply_out_precursor_set(r, u)\n",
    "res = compute_exact_correlation_mod(rfs, cor_evals, 0, v, m, precursor = False, NThreads = NThreads, debug=True)\n",
    "print(res, time()-stime)"
   ]
  },
  {
   "cell_type": "code",
   "execution_count": 12,
   "id": "fa8efaf9-88c4-4ef1-a788-16b0d73e0b97",
   "metadata": {},
   "outputs": [
    {
     "name": "stdout",
     "output_type": "stream",
     "text": [
      "computing propagation forwards\n",
      "forwards propagation resulted in 113 u's after 24.54600214958191 seconds\n",
      "computing propagation backwards\n",
      "backwards propagation resulted in 1 v's after 0.7759716510772705 seconds\n",
      "computing propagation backwards\n",
      "backwards propagation resulted in 6 v's after 1.0901219844818115 seconds\n",
      "computing propagation backwards\n",
      "backwards propagation resulted in 11 v's after 2.285433292388916 seconds\n",
      "computing propagation backwards\n",
      "backwards propagation resulted in 89 v's after 4.8846259117126465 seconds\n",
      "computing propagation backwards\n",
      "backwards propagation resulted in 115 v's after 5.346904277801514 seconds\n",
      "computing propagation forwards\n",
      "forwards propagation resulted in 115 u's after 10.399938583374023 seconds\n",
      "{} 51.158610820770264\n"
     ]
    }
   ],
   "source": [
    "r, u, v, m = 3, bit_permutation(0xf), 0x1<<48, 3\n",
    "stime = time()\n",
    "rfs, cor_evals = multiply_out_precursor_set(r, u)\n",
    "res = compute_exact_correlation_mod(rfs, cor_evals, 0, v, m, precursor = False, NThreads = NThreads, debug=True)\n",
    "print(res, time()-stime)"
   ]
  },
  {
   "cell_type": "markdown",
   "id": "3b555cbb-2ca7-46bf-b3fc-2da29399f072",
   "metadata": {},
   "source": [
    "## 5 round property\n",
    "input set is `0xfff0`"
   ]
  },
  {
   "cell_type": "code",
   "execution_count": 10,
   "id": "eacf0337-d639-414c-ada5-0ce8ab738216",
   "metadata": {
    "scrolled": true
   },
   "outputs": [
    {
     "name": "stdout",
     "output_type": "stream",
     "text": [
      "0 5 1.5250649452209473\n",
      "1 5 1.4689936637878418\n",
      "2 5 1.515817642211914\n",
      "3 5 1.5141234397888184\n",
      "4 2 0.5004768371582031\n",
      "5 2 0.5270683765411377\n",
      "6 2 0.49581074714660645\n",
      "7 2 0.5238075256347656\n",
      "8 3 0.7477242946624756\n",
      "9 3 0.7515132427215576\n",
      "10 3 0.7556173801422119\n",
      "11 3 0.7526369094848633\n",
      "12 2 0.5289537906646729\n",
      "13 2 0.49215173721313477\n",
      "14 2 0.5213949680328369\n",
      "15 2 0.5278725624084473\n",
      "16 4 1.0674059391021729\n",
      "17 4 1.0902478694915771\n",
      "18 4 1.1044836044311523\n",
      "19 4 1.0985925197601318\n",
      "20 1 0.33086705207824707\n",
      "21 1 0.3263704776763916\n",
      "22 1 0.3270578384399414\n",
      "23 1 0.3257408142089844\n",
      "24 2 0.5274331569671631\n",
      "25 2 0.49952125549316406\n",
      "26 2 0.5248370170593262\n",
      "27 2 0.4966287612915039\n",
      "28 1 0.33116698265075684\n",
      "29 1 0.32586669921875\n",
      "30 1 0.326690673828125\n",
      "31 1 0.326369047164917\n",
      "32 4 1.0820369720458984\n",
      "33 4 1.0728693008422852\n",
      "34 4 1.0900442600250244\n",
      "35 4 1.0883986949920654\n",
      "36 2 0.49613404273986816\n",
      "37 2 0.5261883735656738\n",
      "38 2 0.49697327613830566\n",
      "39 2 0.5292601585388184\n",
      "40 2 0.4993584156036377\n",
      "41 2 0.5267055034637451\n",
      "42 2 0.4955739974975586\n",
      "43 2 0.5270669460296631\n",
      "44 2 0.4970271587371826\n",
      "45 2 0.520200252532959\n",
      "46 2 0.5257863998413086\n",
      "47 2 0.5015790462493896\n",
      "48 4 1.093076467514038\n",
      "49 4 1.0865986347198486\n",
      "50 4 1.095508337020874\n",
      "51 4 1.0716350078582764\n",
      "52 1 0.3307042121887207\n",
      "53 1 0.32425475120544434\n",
      "54 1 0.35573434829711914\n",
      "55 1 0.3292708396911621\n",
      "56 2 0.49202632904052734\n",
      "57 2 0.5236835479736328\n",
      "58 2 0.4954109191894531\n",
      "59 2 0.5205044746398926\n",
      "60 1 0.3307809829711914\n",
      "61 1 0.325730562210083\n",
      "62 1 0.3284001350402832\n",
      "63 1 0.3262209892272949\n"
     ]
    }
   ],
   "source": [
    "r, u = 4, bit_permutation(0xfff0)\n",
    "rfs = multiply_out_precursor_set(r, u)[0][1::2]\n",
    "key_masks = [2**(rfs[i].input_size)-1 for i in range(r)] + [2**(rfs[-1].output_size)-1]\n",
    "f = construct_iterated_cipher(rfs, key_masks)\n",
    "model, input_vars, output_vars, key_vars, count_vars = f.to_UT_model()\n",
    "for i in range(64):\n",
    "    start = time()\n",
    "    print(i, get_divisibility_no_trail(model, input_vars, output_vars, key_vars, count_vars, 0, 1<<i), time()-start)"
   ]
  },
  {
   "cell_type": "markdown",
   "id": "657dca79-4004-43b0-86e6-217e1d29b99e",
   "metadata": {},
   "source": [
    "lots of results that are not yet correct: 4, 12, 20, 28, 52, 60"
   ]
  },
  {
   "cell_type": "code",
   "execution_count": 16,
   "id": "44c0cd3f-b38d-4c40-acdd-a8cbbc343f28",
   "metadata": {},
   "outputs": [
    {
     "name": "stdout",
     "output_type": "stream",
     "text": [
      "computing propagation forwards\n",
      "forwards propagation resulted in 883 u's after 218.02899837493896 seconds\n",
      "computing propagation backwards\n",
      "backwards propagation resulted in 1 v's after 0.35543036460876465 seconds\n",
      "computing propagation backwards\n",
      "backwards propagation resulted in 1 v's after 0.3599092960357666 seconds\n",
      "computing propagation backwards\n",
      "backwards propagation resulted in 1 v's after 0.35267019271850586 seconds\n",
      "computing propagation backwards\n",
      "backwards propagation resulted in 26 v's after 4.3697829246521 seconds\n",
      "computing propagation backwards\n",
      "backwards propagation resulted in 36 v's after 1.6577587127685547 seconds\n",
      "computing propagation backwards\n",
      "backwards propagation resulted in 198 v's after 4.903039216995239 seconds\n",
      "computing propagation backwards\n",
      "backwards propagation resulted in 276 v's after 14.447097063064575 seconds\n",
      "computing propagation backwards\n",
      "backwards propagation resulted in 883 v's after 255.76907539367676 seconds\n",
      "{} 501.623961687088\n"
     ]
    }
   ],
   "source": [
    "r, u, v, m = 4, bit_permutation(0xfff0), 0x1<<4, 3\n",
    "stime = time()\n",
    "rfs, cor_evals = multiply_out_precursor_set(r, u)\n",
    "res = compute_exact_correlation_mod(rfs, cor_evals, 0, v, m, precursor = False, NThreads = NThreads, debug=True)\n",
    "print(res, time()-stime)"
   ]
  },
  {
   "cell_type": "code",
   "execution_count": 18,
   "id": "73e56bf4-94ce-42fd-b17e-d882568b01a8",
   "metadata": {},
   "outputs": [
    {
     "name": "stdout",
     "output_type": "stream",
     "text": [
      "computing propagation forwards\n",
      "forwards propagation resulted in 883 u's after 212.72796320915222 seconds\n",
      "computing propagation backwards\n",
      "backwards propagation resulted in 1 v's after 0.36662864685058594 seconds\n",
      "computing propagation backwards\n",
      "backwards propagation resulted in 1 v's after 0.3709089756011963 seconds\n",
      "computing propagation backwards\n",
      "backwards propagation resulted in 1 v's after 0.3612980842590332 seconds\n",
      "computing propagation backwards\n",
      "backwards propagation resulted in 16 v's after 2.697843551635742 seconds\n",
      "computing propagation backwards\n",
      "backwards propagation resulted in 36 v's after 1.4336442947387695 seconds\n",
      "computing propagation backwards\n",
      "backwards propagation resulted in 198 v's after 8.106675148010254 seconds\n",
      "computing propagation backwards\n",
      "backwards propagation resulted in 276 v's after 16.62109351158142 seconds\n",
      "computing propagation backwards\n",
      "backwards propagation resulted in 883 v's after 307.1584234237671 seconds\n",
      "{} 550.7426400184631\n"
     ]
    }
   ],
   "source": [
    "r, u, v, m = 4, bit_permutation(0xfff0), 0x1<<12, 3\n",
    "stime = time()\n",
    "rfs, cor_evals = multiply_out_precursor_set(r, u)\n",
    "res = compute_exact_correlation_mod(rfs, cor_evals, 0, v, m, precursor = False, NThreads = NThreads, debug=True)\n",
    "print(res, time()-stime)"
   ]
  },
  {
   "cell_type": "code",
   "execution_count": 19,
   "id": "1926a51d-e182-4d2c-9d88-6def41f3d9b5",
   "metadata": {},
   "outputs": [
    {
     "name": "stdout",
     "output_type": "stream",
     "text": [
      "computing propagation forwards\n",
      "forwards propagation resulted in 883 u's after 191.8865613937378 seconds\n",
      "computing propagation backwards\n",
      "backwards propagation resulted in 1 v's after 0.31305408477783203 seconds\n",
      "computing propagation backwards\n",
      "backwards propagation resulted in 1 v's after 0.3182713985443115 seconds\n",
      "computing propagation backwards\n",
      "backwards propagation resulted in 1 v's after 0.3183164596557617 seconds\n",
      "computing propagation backwards\n",
      "backwards propagation resulted in 26 v's after 3.825925827026367 seconds\n",
      "computing propagation backwards\n",
      "backwards propagation resulted in 36 v's after 1.838059902191162 seconds\n",
      "computing propagation backwards\n",
      "backwards propagation resulted in 198 v's after 4.592368125915527 seconds\n",
      "computing propagation backwards\n",
      "backwards propagation resulted in 276 v's after 14.292599201202393 seconds\n",
      "computing propagation backwards\n",
      "backwards propagation resulted in 883 v's after 223.516756772995 seconds\n",
      "{} 441.7480754852295\n"
     ]
    }
   ],
   "source": [
    "r, u, v, m = 4, bit_permutation(0xfff0), 0x1<<20, 2\n",
    "stime = time()\n",
    "rfs, cor_evals = multiply_out_precursor_set(r, u)\n",
    "res = compute_exact_correlation_mod(rfs, cor_evals, 0, v, m, precursor = False, NThreads = NThreads, debug=True)\n",
    "print(res, time()-stime)"
   ]
  },
  {
   "cell_type": "code",
   "execution_count": 20,
   "id": "fb648b3f-f71e-4d85-9090-6b94c8282d4f",
   "metadata": {},
   "outputs": [
    {
     "name": "stdout",
     "output_type": "stream",
     "text": [
      "computing propagation forwards\n",
      "forwards propagation resulted in 883 u's after 188.14611887931824 seconds\n",
      "computing propagation backwards\n",
      "backwards propagation resulted in 1 v's after 0.2992284297943115 seconds\n",
      "computing propagation backwards\n",
      "backwards propagation resulted in 1 v's after 0.2969856262207031 seconds\n",
      "computing propagation backwards\n",
      "backwards propagation resulted in 1 v's after 0.29407787322998047 seconds\n",
      "computing propagation backwards\n",
      "backwards propagation resulted in 16 v's after 2.288576364517212 seconds\n",
      "computing propagation backwards\n",
      "backwards propagation resulted in 36 v's after 1.248098373413086 seconds\n",
      "computing propagation backwards\n",
      "backwards propagation resulted in 198 v's after 6.962957382202148 seconds\n",
      "computing propagation backwards\n",
      "backwards propagation resulted in 276 v's after 14.230446577072144 seconds\n",
      "computing propagation backwards\n",
      "backwards propagation resulted in 883 v's after 269.1645841598511 seconds\n",
      "{} 483.7348806858063\n"
     ]
    }
   ],
   "source": [
    "r, u, v, m = 4, bit_permutation(0xfff0), 0x1<<28, 2\n",
    "stime = time()\n",
    "rfs, cor_evals = multiply_out_precursor_set(r, u)\n",
    "res = compute_exact_correlation_mod(rfs, cor_evals, 0, v, m, precursor = False, NThreads = NThreads, debug=True)\n",
    "print(res, time()-stime)"
   ]
  },
  {
   "cell_type": "code",
   "execution_count": 21,
   "id": "ca0bae47-df82-4065-ac16-c1228d4a9b03",
   "metadata": {},
   "outputs": [
    {
     "name": "stdout",
     "output_type": "stream",
     "text": [
      "computing propagation forwards\n",
      "forwards propagation resulted in 883 u's after 181.21717429161072 seconds\n",
      "computing propagation backwards\n",
      "backwards propagation resulted in 1 v's after 0.2949984073638916 seconds\n",
      "computing propagation backwards\n",
      "backwards propagation resulted in 1 v's after 0.2968924045562744 seconds\n",
      "computing propagation backwards\n",
      "backwards propagation resulted in 1 v's after 0.2952091693878174 seconds\n",
      "computing propagation backwards\n",
      "backwards propagation resulted in 26 v's after 3.652731418609619 seconds\n",
      "computing propagation backwards\n",
      "backwards propagation resulted in 36 v's after 1.6618285179138184 seconds\n",
      "computing propagation backwards\n",
      "backwards propagation resulted in 198 v's after 4.5985846519470215 seconds\n",
      "computing propagation backwards\n",
      "backwards propagation resulted in 276 v's after 12.369237184524536 seconds\n",
      "computing propagation backwards\n",
      "backwards propagation resulted in 883 v's after 270.33962059020996 seconds\n",
      "{} 475.53065490722656\n"
     ]
    }
   ],
   "source": [
    "r, u, v, m = 4, bit_permutation(0xfff0), 0x1<<52, 2\n",
    "stime = time()\n",
    "rfs, cor_evals = multiply_out_precursor_set(r, u)\n",
    "res = compute_exact_correlation_mod(rfs, cor_evals, 0, v, m, precursor = False, NThreads = NThreads, debug=True)\n",
    "print(res, time()-stime)"
   ]
  },
  {
   "cell_type": "code",
   "execution_count": 22,
   "id": "47262721-12a0-454a-a982-3b0c2b0d640d",
   "metadata": {},
   "outputs": [
    {
     "name": "stdout",
     "output_type": "stream",
     "text": [
      "computing propagation forwards\n",
      "forwards propagation resulted in 883 u's after 178.58017468452454 seconds\n",
      "computing propagation backwards\n",
      "backwards propagation resulted in 1 v's after 0.23790931701660156 seconds\n",
      "computing propagation backwards\n",
      "backwards propagation resulted in 1 v's after 0.23991680145263672 seconds\n",
      "computing propagation backwards\n",
      "backwards propagation resulted in 1 v's after 0.23831605911254883 seconds\n",
      "computing propagation backwards\n",
      "backwards propagation resulted in 16 v's after 2.2912025451660156 seconds\n",
      "computing propagation backwards\n",
      "backwards propagation resulted in 36 v's after 1.1874792575836182 seconds\n",
      "computing propagation backwards\n",
      "backwards propagation resulted in 198 v's after 6.924335241317749 seconds\n",
      "computing propagation backwards\n",
      "backwards propagation resulted in 276 v's after 12.565388441085815 seconds\n",
      "computing propagation backwards\n",
      "backwards propagation resulted in 883 v's after 218.20102262496948 seconds\n",
      "{} 421.25068283081055\n"
     ]
    }
   ],
   "source": [
    "r, u, v, m = 4, bit_permutation(0xfff0), 0x1<<60, 2\n",
    "stime = time()\n",
    "rfs, cor_evals = multiply_out_precursor_set(r, u)\n",
    "res = compute_exact_correlation_mod(rfs, cor_evals, 0, v, m, precursor = False, NThreads = NThreads, debug=True)\n",
    "print(res, time()-stime)"
   ]
  },
  {
   "cell_type": "markdown",
   "id": "ba8ced72-1012-4879-bada-43cb18a2ac89",
   "metadata": {},
   "source": [
    "## 6 round property\n",
    "input set is `0xffffffff`"
   ]
  },
  {
   "cell_type": "code",
   "execution_count": 11,
   "id": "565fecdc-f288-4942-8d38-2377f2aa8483",
   "metadata": {
    "scrolled": true
   },
   "outputs": [
    {
     "name": "stdout",
     "output_type": "stream",
     "text": [
      "0 7 2.48724365234375\n",
      "1 4 0.9361240863800049\n",
      "2 4 0.9522249698638916\n",
      "3 4 0.940030574798584\n",
      "4 4 0.968026876449585\n",
      "5 1 0.2955169677734375\n",
      "6 1 0.28803110122680664\n",
      "7 1 0.28618311882019043\n",
      "8 4 0.9307601451873779\n",
      "9 2 0.4635324478149414\n",
      "10 2 0.4350442886352539\n",
      "11 2 0.4326474666595459\n",
      "12 4 0.9585285186767578\n",
      "13 1 0.29141998291015625\n",
      "14 1 0.28740978240966797\n",
      "15 1 0.2931101322174072\n",
      "16 7 2.596034288406372\n",
      "17 4 0.9697849750518799\n",
      "18 4 0.9659574031829834\n",
      "19 4 0.9382107257843018\n",
      "20 4 0.9842464923858643\n",
      "21 1 0.2590000629425049\n",
      "22 1 0.2906985282897949\n",
      "23 1 0.28949642181396484\n",
      "24 4 0.9756455421447754\n",
      "25 2 0.4388422966003418\n",
      "26 2 0.4723489284515381\n",
      "27 2 0.43952465057373047\n",
      "28 4 0.9598736763000488\n",
      "29 1 0.29174280166625977\n",
      "30 1 0.28904223442077637\n",
      "31 1 0.28838014602661133\n",
      "32 7 2.700803756713867\n",
      "33 4 0.9655857086181641\n",
      "34 4 0.9359400272369385\n",
      "35 4 0.9640052318572998\n",
      "36 4 0.9339613914489746\n",
      "37 1 0.29046130180358887\n",
      "38 1 0.2891383171081543\n",
      "39 1 0.28849172592163086\n",
      "40 4 0.9253647327423096\n",
      "41 2 0.4765195846557617\n",
      "42 2 0.44264912605285645\n",
      "43 2 0.4359862804412842\n",
      "44 4 0.9726541042327881\n",
      "45 1 0.28943657875061035\n",
      "46 1 0.2860291004180908\n",
      "47 1 0.28612685203552246\n",
      "48 7 2.740478277206421\n",
      "49 4 0.9377360343933105\n",
      "50 4 0.9597547054290771\n",
      "51 4 0.933680534362793\n",
      "52 4 0.9591169357299805\n",
      "53 1 0.2896897792816162\n",
      "54 1 0.29149556159973145\n",
      "55 1 0.2600560188293457\n",
      "56 4 0.9616889953613281\n",
      "57 2 0.4346184730529785\n",
      "58 2 0.4664766788482666\n",
      "59 2 0.4322049617767334\n",
      "60 4 0.9694185256958008\n",
      "61 1 0.2578115463256836\n",
      "62 1 0.28881406784057617\n",
      "63 1 0.28543663024902344\n"
     ]
    }
   ],
   "source": [
    "r, u = 4, bit_permutation(bit_permutation(0xffffffff))\n",
    "rfs = multiply_out_precursor_set(r, u)[0][1::2]\n",
    "key_masks = [2**(rfs[i].input_size)-1 for i in range(r)] + [2**(rfs[-1].output_size)-1]\n",
    "f = construct_iterated_cipher(rfs, key_masks)\n",
    "model, input_vars, output_vars, key_vars, count_vars = f.to_UT_model()\n",
    "for i in range(64):\n",
    "    start = time()\n",
    "    print(i, get_divisibility_no_trail(model, input_vars, output_vars, key_vars, count_vars, 0, 1<<i), time()-start)"
   ]
  },
  {
   "cell_type": "markdown",
   "id": "702f4087-78ff-4b71-b0a9-c8a90fc4c1f5",
   "metadata": {},
   "source": [
    "## 7 round property\n",
    "input set is `0xfffffffffffff000`"
   ]
  },
  {
   "cell_type": "code",
   "execution_count": 12,
   "id": "38ccf552-65a5-444b-9b05-120f9a75d78f",
   "metadata": {
    "scrolled": true
   },
   "outputs": [
    {
     "name": "stdout",
     "output_type": "stream",
     "text": [
      "0 9 167.35044884681702\n",
      "1 5 4.3751702308654785\n",
      "2 5 3.8621418476104736\n",
      "3 5 4.214468479156494\n",
      "4 4 4.0134100914001465\n",
      "5 2 0.6675982475280762\n",
      "6 2 0.6776266098022461\n",
      "7 2 0.787452220916748\n",
      "8 5 5.204667091369629\n",
      "9 2 0.6398227214813232\n",
      "10 2 0.5867519378662109\n",
      "11 2 0.630108118057251\n",
      "12 4 3.9711291790008545\n",
      "13 2 0.7191829681396484\n",
      "14 2 0.640343427658081\n",
      "15 2 0.7879593372344971\n",
      "16 8 157.85045909881592\n",
      "17 4 3.850558042526245\n",
      "18 4 2.923154354095459\n",
      "19 4 3.6711604595184326\n",
      "20 3 3.2654433250427246\n",
      "21 1 0.49759745597839355\n",
      "22 1 0.4195077419281006\n",
      "23 1 0.4559352397918701\n",
      "24 4 4.660343647003174\n",
      "25 1 0.44526171684265137\n",
      "26 1 0.45801210403442383\n",
      "27 1 0.4613823890686035\n",
      "28 3 2.8436996936798096\n",
      "29 1 0.46830034255981445\n",
      "30 1 0.5298399925231934\n",
      "31 1 0.4577972888946533\n",
      "32 8 34.54297161102295\n",
      "33 4 3.122617483139038\n",
      "34 4 2.4244155883789062\n",
      "35 4 2.9879932403564453\n",
      "36 5 17.0371196269989\n",
      "37 1 0.47055745124816895\n",
      "38 1 0.4377262592315674\n",
      "39 1 0.44525766372680664\n",
      "40 5 8.63122034072876\n",
      "41 2 0.7962989807128906\n",
      "42 2 0.746173620223999\n",
      "43 2 0.8978803157806396\n",
      "44 5 12.70652151107788\n",
      "45 1 0.41496920585632324\n",
      "46 1 0.5125257968902588\n",
      "47 1 0.4986584186553955\n",
      "48 8 146.58906817436218\n",
      "49 4 3.1818604469299316\n",
      "50 4 3.598780632019043\n",
      "51 4 3.6229970455169678\n",
      "52 3 3.12074875831604\n",
      "53 1 0.4912703037261963\n",
      "54 1 0.4115595817565918\n",
      "55 1 0.47826552391052246\n",
      "56 4 4.197505235671997\n",
      "57 1 0.5304360389709473\n",
      "58 1 0.42403531074523926\n",
      "59 1 0.3755052089691162\n",
      "60 3 3.1615302562713623\n",
      "61 1 0.45752930641174316\n",
      "62 1 0.4023747444152832\n",
      "63 1 0.46858692169189453\n"
     ]
    }
   ],
   "source": [
    "r, u = 6, bit_permutation(0xfffffffffffff000)\n",
    "rfs = multiply_out_precursor_set(r, u)[0][1::2]\n",
    "key_masks = [2**(rfs[i].input_size)-1 for i in range(r)] + [2**(rfs[-1].output_size)-1]\n",
    "f = construct_iterated_cipher(rfs, key_masks)\n",
    "model, input_vars, output_vars, key_vars, count_vars = f.to_UT_model()\n",
    "for i in range(64):\n",
    "    start = time()\n",
    "    print(i, get_divisibility_no_trail(model, input_vars, output_vars, key_vars, count_vars, 0, 1<<i), time()-start)"
   ]
  },
  {
   "cell_type": "markdown",
   "id": "2d7ea8b9-8e3e-4c46-b480-ddda77010e29",
   "metadata": {},
   "source": [
    "## 8 round property\n",
    "input set is `0xfffffffffffffffe`"
   ]
  },
  {
   "cell_type": "code",
   "execution_count": 13,
   "id": "00687a03-f2ce-4f6c-9df7-1646993d54b9",
   "metadata": {
    "scrolled": true
   },
   "outputs": [
    {
     "name": "stdout",
     "output_type": "stream",
     "text": [
      "0 8 330.57228684425354\n",
      "1 5 15.132317543029785\n",
      "2 5 17.322696685791016\n",
      "3 5 24.815342903137207\n",
      "4 5 31.44292140007019\n",
      "5 2 1.783715009689331\n",
      "6 2 1.2431809902191162\n",
      "7 2 1.4194507598876953\n",
      "8 5 15.615493297576904\n",
      "9 3 2.612935781478882\n",
      "10 3 2.4056050777435303\n",
      "11 3 2.1462252140045166\n",
      "12 5 27.115337133407593\n",
      "13 2 1.2138972282409668\n",
      "14 2 1.510030746459961\n",
      "15 2 1.5824542045593262\n",
      "16 7 548.4741897583008\n",
      "17 4 14.619363069534302\n",
      "18 5 41.995516538619995\n",
      "19 4 11.290764570236206\n",
      "20 4 35.61488914489746\n",
      "21 2 1.3464977741241455\n",
      "22 2 1.4534215927124023\n",
      "23 2 1.0089869499206543\n",
      "24 5 41.82558751106262\n",
      "25 2 1.2331511974334717\n",
      "26 2 1.8038866519927979\n",
      "27 2 0.9913780689239502\n",
      "28 4 34.11062216758728\n",
      "29 2 1.1908729076385498\n",
      "30 2 1.0687317848205566\n",
      "31 2 1.2806901931762695\n",
      "32 7 202.52908945083618\n",
      "33 4 6.610492467880249\n",
      "34 5 21.89538812637329\n",
      "35 4 9.656897068023682\n",
      "36 5 44.05936622619629\n",
      "37 2 1.0076732635498047\n",
      "38 2 1.2469794750213623\n",
      "39 2 1.2623717784881592\n",
      "40 5 24.762900352478027\n",
      "41 3 3.4211204051971436\n",
      "42 3 3.356994390487671\n",
      "43 3 3.618941068649292\n",
      "44 5 59.65606141090393\n",
      "45 2 1.2001523971557617\n",
      "46 2 1.6441140174865723\n",
      "47 2 1.2099084854125977\n",
      "48 7 299.6101324558258\n",
      "49 4 11.163888931274414\n",
      "50 5 38.57985234260559\n",
      "51 4 10.47058629989624\n",
      "52 4 31.551604986190796\n",
      "53 2 1.5297389030456543\n",
      "54 2 1.1066691875457764\n",
      "55 2 1.0026705265045166\n",
      "56 5 37.03869032859802\n",
      "57 2 1.2617440223693848\n",
      "58 2 1.3189013004302979\n",
      "59 2 1.0063176155090332\n",
      "60 4 28.44376826286316\n",
      "61 2 1.2229630947113037\n",
      "62 2 1.2045698165893555\n",
      "63 2 1.3083953857421875\n"
     ]
    }
   ],
   "source": [
    "r, u = 8, 0xfffffffffffffffe\n",
    "rfs = multiply_out_precursor_set(r, u)[0][1::2]\n",
    "key_masks = [2**(rfs[i].input_size)-1 for i in range(r)] + [2**(rfs[-1].output_size)-1]\n",
    "f = construct_iterated_cipher(rfs, key_masks)\n",
    "model, input_vars, output_vars, key_vars, count_vars = f.to_UT_model()\n",
    "for i in range(64):\n",
    "    start = time()\n",
    "    print(i, get_divisibility_no_trail(model, input_vars, output_vars, key_vars, count_vars, 0, 1<<i), time()-start)"
   ]
  },
  {
   "cell_type": "markdown",
   "id": "4384e6b6-79c9-42ed-9d01-c01d52d2e474",
   "metadata": {},
   "source": [
    "## 9 round property\n",
    "input set is `0xfffffffffffffffe`"
   ]
  },
  {
   "cell_type": "code",
   "execution_count": 14,
   "id": "725c6ee5-3e2f-4835-a83d-c5a5c8578052",
   "metadata": {
    "scrolled": true
   },
   "outputs": [
    {
     "name": "stdout",
     "output_type": "stream",
     "text": [
      "0 2 8.959420442581177\n",
      "1 1 0.7922048568725586\n",
      "2 1 1.1065921783447266\n",
      "3 1 0.6398978233337402\n",
      "4 2 4.5299413204193115\n",
      "5 0 0.3953526020050049\n",
      "6 0 0.36408472061157227\n",
      "7 0 0.3621094226837158\n",
      "8 2 3.3394381999969482\n",
      "9 0 0.3856017589569092\n",
      "10 0 0.38556718826293945\n",
      "11 0 0.36624956130981445\n",
      "12 2 4.179787635803223\n",
      "13 0 0.3673231601715088\n",
      "14 0 0.3672499656677246\n",
      "15 0 0.39612770080566406\n",
      "16 1 2.32179856300354\n",
      "17 1 1.0822093486785889\n",
      "18 1 0.8791511058807373\n",
      "19 1 1.0459315776824951\n",
      "20 1 1.5157625675201416\n",
      "21 0 0.35628652572631836\n",
      "22 0 0.35953450202941895\n",
      "23 0 0.35550689697265625\n",
      "24 1 1.0494945049285889\n",
      "25 0 0.36194348335266113\n",
      "26 0 0.3554267883300781\n",
      "27 0 0.3563525676727295\n",
      "28 1 1.6621088981628418\n",
      "29 0 0.3569784164428711\n",
      "30 0 0.36039113998413086\n",
      "31 0 0.35416197776794434\n",
      "32 1 0.967618465423584\n",
      "33 1 1.340033769607544\n",
      "34 1 1.0420067310333252\n",
      "35 1 0.8070616722106934\n",
      "36 1 1.3918180465698242\n",
      "37 0 0.36101460456848145\n",
      "38 0 0.35378479957580566\n",
      "39 0 0.350100040435791\n",
      "40 1 0.8163673877716064\n",
      "41 0 0.35925865173339844\n",
      "42 0 0.3643364906311035\n",
      "43 0 0.361619234085083\n",
      "44 1 1.2798793315887451\n",
      "45 0 0.3568258285522461\n",
      "46 0 0.35419750213623047\n",
      "47 0 0.3591749668121338\n",
      "48 1 2.4920055866241455\n",
      "49 1 1.2247917652130127\n",
      "50 1 1.1944749355316162\n",
      "51 1 1.051164150238037\n",
      "52 1 1.449880838394165\n",
      "53 0 0.35711216926574707\n",
      "54 0 0.35751986503601074\n",
      "55 0 0.35204124450683594\n",
      "56 1 1.120741605758667\n",
      "57 0 0.3557770252227783\n",
      "58 0 0.3546142578125\n",
      "59 0 0.3561100959777832\n",
      "60 1 1.3536455631256104\n",
      "61 0 0.3557310104370117\n",
      "62 0 0.3610875606536865\n",
      "63 0 0.3576679229736328\n"
     ]
    }
   ],
   "source": [
    "r, u = 9, 0xfffffffffffffffe\n",
    "rfs = multiply_out_precursor_set(r, u)[0][1::2]\n",
    "key_masks = [2**(rfs[i].input_size)-1 for i in range(r)] + [2**(rfs[-1].output_size)-1]\n",
    "f = construct_iterated_cipher(rfs, key_masks)\n",
    "model, input_vars, output_vars, key_vars, count_vars = f.to_UT_model()\n",
    "for i in range(64):\n",
    "    start = time()\n",
    "    print(i, get_divisibility_no_trail(model, input_vars, output_vars, key_vars, count_vars, 0, 1<<i), time()-start)"
   ]
  },
  {
   "cell_type": "markdown",
   "id": "f4f1d1b8-d003-4c82-8e74-7ced74ccf5ba",
   "metadata": {
    "jp-MarkdownHeadingCollapsed": true
   },
   "source": [
    "# Zero correlation"
   ]
  },
  {
   "cell_type": "code",
   "execution_count": 46,
   "id": "9adbffd5-1fa2-41a1-b8b2-08348a67d765",
   "metadata": {
    "scrolled": true
   },
   "outputs": [
    {
     "name": "stdout",
     "output_type": "stream",
     "text": [
      "0 -inf 0.12193179130554199\n",
      "1 -inf 0.042684316635131836\n",
      "2 -inf 0.0427250862121582\n",
      "3 -inf 0.0422208309173584\n",
      "4 -inf 0.04222750663757324\n",
      "5 -inf 0.09306550025939941\n",
      "6 -inf 0.042958974838256836\n",
      "7 -inf 0.04239916801452637\n",
      "8 -inf 0.04230308532714844\n",
      "9 -inf 0.04217362403869629\n",
      "10 -inf 0.0908362865447998\n",
      "11 -inf 0.042249202728271484\n",
      "12 -inf 0.04255342483520508\n",
      "13 -inf 0.042409658432006836\n",
      "14 -inf 0.04232430458068848\n",
      "15 -inf 0.0906682014465332\n",
      "16 -inf 0.04257798194885254\n",
      "17 -inf 0.04207301139831543\n",
      "18 -inf 0.042078495025634766\n",
      "19 -inf 0.042479515075683594\n",
      "20 -inf 0.0912024974822998\n",
      "21 -inf 0.04260754585266113\n",
      "22 -inf 0.042386770248413086\n",
      "23 -inf 0.04231572151184082\n",
      "24 -inf 0.04196882247924805\n",
      "25 -inf 0.04268789291381836\n",
      "26 -inf 0.08939480781555176\n",
      "27 -inf 0.04287838935852051\n",
      "28 -inf 0.0424044132232666\n",
      "29 -inf 0.042643070220947266\n",
      "30 -inf 0.04244709014892578\n",
      "31 -inf 0.08908677101135254\n",
      "32 -inf 0.04308032989501953\n",
      "33 -inf 0.042993783950805664\n",
      "34 -inf 0.042540788650512695\n",
      "35 -inf 0.042116641998291016\n",
      "36 -inf 0.08974266052246094\n",
      "37 -inf 0.042781829833984375\n",
      "38 -inf 0.04249715805053711\n",
      "39 -inf 0.042650699615478516\n",
      "40 -inf 0.04240226745605469\n",
      "41 -inf 0.08991527557373047\n",
      "42 -inf 0.04287362098693848\n",
      "43 -inf 0.04205322265625\n",
      "44 -inf 0.04189944267272949\n",
      "45 -inf 0.042488813400268555\n",
      "46 -inf 0.09018349647521973\n",
      "47 -inf 0.0427243709564209\n",
      "48 -inf 0.04225039482116699\n",
      "49 -inf 0.04212760925292969\n",
      "50 -inf 0.04207110404968262\n",
      "51 -inf 0.09099531173706055\n",
      "52 -inf 0.04291558265686035\n",
      "53 -inf 0.04245114326477051\n",
      "54 -inf 0.04235982894897461\n",
      "55 -inf 0.04209136962890625\n",
      "56 -inf 0.0906667709350586\n",
      "57 -inf 0.04245305061340332\n",
      "58 -inf 0.04222297668457031\n",
      "59 -inf 0.04249095916748047\n",
      "60 -inf 0.04237246513366699\n",
      "61 -inf 0.0907752513885498\n",
      "62 -inf 0.04278230667114258\n",
      "63 -inf 0.04198455810546875\n"
     ]
    }
   ],
   "source": [
    "# output mask set of size $2^{16}$\n",
    "from pysat.card import CardEnc, EncType\n",
    "r, u = 5, 0xfffffffffffffffe\n",
    "rfs = multiply_out_precursor_set(r, u)[0][1::2]\n",
    "key_masks = [2**(rfs[i].input_size)-1 for i in range(r)] + [2**(rfs[-1].output_size)-1]\n",
    "f = construct_iterated_cipher(rfs, key_masks)\n",
    "model, input_vars, output_vars, key_vars, count_vars = f.to_UT_model()\n",
    "for i in range(64):\n",
    "    start = time()\n",
    "    new_output_vars = output_vars[:i] + output_vars[i+1:]\n",
    "    new_count_vars = count_vars + output_vars[i:i+1]\n",
    "    print(i, 64-get_divisibility_no_trail(model, input_vars, new_output_vars, key_vars, new_count_vars, 0xffffffffffffffff, 0, precursor=False), time()-start)"
   ]
  },
  {
   "cell_type": "code",
   "execution_count": 37,
   "id": "82bb207a-b172-4c4c-8081-d7d54d184c83",
   "metadata": {
    "scrolled": true
   },
   "outputs": [
    {
     "name": "stdout",
     "output_type": "stream",
     "text": [
      "0 -inf 0.042646169662475586\n",
      "1 -inf 0.04218482971191406\n",
      "2 -inf 0.04204869270324707\n",
      "3 -inf 0.04234957695007324\n"
     ]
    }
   ],
   "source": [
    "# output mask set of size $2^{16}$\n",
    "from pysat.card import CardEnc, EncType\n",
    "r, u = 5, 0xfffffffffffffffe\n",
    "rfs = multiply_out_precursor_set(r, u)[0][1::2]\n",
    "key_masks = [2**(rfs[i].input_size)-1 for i in range(r)] + [2**(rfs[-1].output_size)-1]\n",
    "f = construct_iterated_cipher(rfs, key_masks)\n",
    "model, input_vars, output_vars, key_vars, count_vars = f.to_UT_model()\n",
    "for i in range(4):\n",
    "    start = time()\n",
    "    new_output_vars = sum([output_vars[j::4] for j in range(4) if j != i], tuple())\n",
    "    new_count_vars = count_vars + output_vars[i::4]\n",
    "    print(i, 64-get_divisibility_no_trail(model, input_vars, new_output_vars, key_vars, new_count_vars, 0xffffffffffffffff, 0, precursor=False), time()-start)"
   ]
  },
  {
   "cell_type": "code",
   "execution_count": 38,
   "id": "7839bc78-fefb-40a6-a041-224fca326f8b",
   "metadata": {},
   "outputs": [
    {
     "name": "stdout",
     "output_type": "stream",
     "text": [
      "0 1 -inf 0.09158682823181152\n",
      "0 2 41 32.26926064491272\n",
      "0 3 -inf 0.04246401786804199\n",
      "1 2 -inf 0.09478640556335449\n",
      "1 3 -inf 0.04185628890991211\n",
      "2 3 -inf 0.04194307327270508\n"
     ]
    }
   ],
   "source": [
    "# output mask set of size $2^{32}$\n",
    "from pysat.card import CardEnc, EncType\n",
    "r, u = 5, 0xfffffffffffffffe\n",
    "rfs = multiply_out_precursor_set(r, u)[0][1::2]\n",
    "key_masks = [2**(rfs[i].input_size)-1 for i in range(r)] + [2**(rfs[-1].output_size)-1]\n",
    "f = construct_iterated_cipher(rfs, key_masks)\n",
    "model, input_vars, output_vars, key_vars, count_vars = f.to_UT_model()\n",
    "for i in range(4):\n",
    "    for j in range(i+1, 4):\n",
    "        start = time()\n",
    "        new_output_vars = sum([output_vars[k::4] for k in range(4) if k != i and k != j], tuple())\n",
    "        new_count_vars = count_vars + output_vars[i::4] + output_vars[j::4]\n",
    "        print(i, j,  64-get_divisibility_no_trail(model, input_vars, new_output_vars, key_vars, new_count_vars, 0xffffffffffffffff, 0, precursor=False), time()-start)"
   ]
  },
  {
   "cell_type": "code",
   "execution_count": 36,
   "id": "ddd2db34-face-4a9d-9665-3251da2e0fc3",
   "metadata": {},
   "outputs": [
    {
     "name": "stdout",
     "output_type": "stream",
     "text": [
      "0 -inf 0.04249691963195801\n",
      "1 41 41.78449010848999\n",
      "2 -inf 0.042351484298706055\n",
      "3 41 39.716124534606934\n"
     ]
    }
   ],
   "source": [
    "# output mask set of size $2^{48}$\n",
    "from pysat.card import CardEnc, EncType\n",
    "r, u = 5, 0xfffffffffffffffe\n",
    "rfs = multiply_out_precursor_set(r, u)[0][1::2]\n",
    "key_masks = [2**(rfs[i].input_size)-1 for i in range(r)] + [2**(rfs[-1].output_size)-1]\n",
    "f = construct_iterated_cipher(rfs, key_masks)\n",
    "model, input_vars, output_vars, key_vars, count_vars = f.to_UT_model()\n",
    "for i in range(4):\n",
    "    start = time()\n",
    "    new_output_vars = output_vars[i::4]\n",
    "    new_count_vars = count_vars + sum([output_vars[j::4] for j in range(4) if j != i], tuple())\n",
    "    print(i, 64-get_divisibility_no_trail(model, input_vars, new_output_vars, key_vars, new_count_vars, 0xffffffffffffffff, 0, precursor=False), time()-start)"
   ]
  },
  {
   "cell_type": "code",
   "execution_count": 58,
   "id": "9281217a-3c87-4cb7-81be-4602cd00edc9",
   "metadata": {},
   "outputs": [
    {
     "name": "stdout",
     "output_type": "stream",
     "text": [
      "[-1  0  0  0  2  0  0  0  2  0 -2  0 -2  0  0  0]\n"
     ]
    }
   ],
   "source": [
    "# 6 round property\n",
    "v = 11\n",
    "M = UT_matrix(PRESENT_sbox, 4, 4)\n",
    "res = M[0, :]\n",
    "for u in range(1, 16):\n",
    "    if u | v == v:\n",
    "        res += (-2)**u.bit_count()*M[u, :]\n",
    "print(res)"
   ]
  },
  {
   "cell_type": "markdown",
   "id": "1e68c4c0-2b3e-44b8-936d-baedae902c32",
   "metadata": {
    "jp-MarkdownHeadingCollapsed": true
   },
   "source": [
    "# Improving key recovery"
   ]
  },
  {
   "cell_type": "markdown",
   "id": "b1e2d73b-854a-4a58-bee2-62442ccc412f",
   "metadata": {},
   "source": [
    "## 4 Rounds"
   ]
  },
  {
   "cell_type": "code",
   "execution_count": 176,
   "id": "c82e7cd9-2019-47ef-8285-65352e73011d",
   "metadata": {},
   "outputs": [
    {
     "name": "stdout",
     "output_type": "stream",
     "text": [
      "[1, 1, 1, 1]\n"
     ]
    }
   ],
   "source": [
    "r, u = 4, 0xe\n",
    "rfs = multiply_out_precursor_set(r, u)[0][1::2]\n",
    "key_masks = [2**(rfs[i].input_size)-1 for i in range(r)] + [2**(rfs[-1].output_size)-1]\n",
    "f = construct_iterated_cipher(rfs, key_masks)\n",
    "model, input_vars, output_vars, key_vars, count_vars = f.to_UT_model()\n",
    "res = {}\n",
    "print([get_divisibility_no_key_dependent_trail(model, input_vars, output_vars, key_vars, count_vars, 0, 1<<i) for i in range(4)])"
   ]
  },
  {
   "cell_type": "code",
   "execution_count": 177,
   "id": "df0ef3b0-cb2e-45fc-afa4-1f09f1822240",
   "metadata": {},
   "outputs": [
    {
     "name": "stdout",
     "output_type": "stream",
     "text": [
      "[3, 2, 2, 2]\n"
     ]
    }
   ],
   "source": [
    "r, u = 4, 0xf\n",
    "rfs = multiply_out_precursor_set(r, u)[0][1::2]\n",
    "key_masks = [2**(rfs[i].input_size)-1 for i in range(r)] + [2**(rfs[-1].output_size)-1]\n",
    "f = construct_iterated_cipher(rfs, key_masks)\n",
    "model, input_vars, output_vars, key_vars, count_vars = f.to_UT_model()\n",
    "res = {}\n",
    "print([get_divisibility_no_key_dependent_trail(model, input_vars, output_vars, key_vars, count_vars, 0, 1<<i) for i in range(4)])"
   ]
  },
  {
   "cell_type": "code",
   "execution_count": 178,
   "id": "e567dc43-0d7e-4e9b-9a9f-df57b03a2115",
   "metadata": {},
   "outputs": [
    {
     "name": "stdout",
     "output_type": "stream",
     "text": [
      "[3, 3, 3, 3]\n"
     ]
    }
   ],
   "source": [
    "r, u = 4, 0x1000f\n",
    "rfs = multiply_out_precursor_set(r, u)[0][1::2]\n",
    "key_masks = [2**(rfs[i].input_size)-1 for i in range(r)] + [2**(rfs[-1].output_size)-1]\n",
    "f = construct_iterated_cipher(rfs, key_masks)\n",
    "model, input_vars, output_vars, key_vars, count_vars = f.to_UT_model()\n",
    "res = {}\n",
    "print([get_divisibility_no_key_dependent_trail(model, input_vars, output_vars, key_vars, count_vars, 0, 1<<i) for i in range(4)])"
   ]
  },
  {
   "cell_type": "markdown",
   "id": "339c989f-d1a5-49bc-ae0c-5611273ee7b4",
   "metadata": {},
   "source": [
    "## 5 rounds"
   ]
  },
  {
   "cell_type": "code",
   "execution_count": 179,
   "id": "72d71fda-5c68-449f-90a8-b276a3c1b515",
   "metadata": {},
   "outputs": [
    {
     "name": "stdout",
     "output_type": "stream",
     "text": [
      "[1, 1, 1, 1]\n"
     ]
    }
   ],
   "source": [
    "r, u = 5, 0xf\n",
    "rfs = multiply_out_precursor_set(r, u)[0][1::2]\n",
    "key_masks = [2**(rfs[i].input_size)-1 for i in range(r)] + [2**(rfs[-1].output_size)-1]\n",
    "f = construct_iterated_cipher(rfs, key_masks)\n",
    "model, input_vars, output_vars, key_vars, count_vars = f.to_UT_model()\n",
    "res = {}\n",
    "print([get_divisibility_no_key_dependent_trail(model, input_vars, output_vars, key_vars, count_vars, 0, 1<<i) for i in range(4)])"
   ]
  },
  {
   "cell_type": "code",
   "execution_count": 180,
   "id": "d1f53db7-ce77-40ef-b246-09209a8524b9",
   "metadata": {},
   "outputs": [
    {
     "name": "stdout",
     "output_type": "stream",
     "text": [
      "[2, 1, 1, 1]\n"
     ]
    }
   ],
   "source": [
    "r, u = 5, 0x1000f\n",
    "rfs = multiply_out_precursor_set(r, u)[0][1::2]\n",
    "key_masks = [2**(rfs[i].input_size)-1 for i in range(r)] + [2**(rfs[-1].output_size)-1]\n",
    "f = construct_iterated_cipher(rfs, key_masks)\n",
    "model, input_vars, output_vars, key_vars, count_vars = f.to_UT_model()\n",
    "res = {}\n",
    "print([get_divisibility_no_key_dependent_trail(model, input_vars, output_vars, key_vars, count_vars, 0, 1<<i) for i in range(4)])"
   ]
  },
  {
   "cell_type": "code",
   "execution_count": 181,
   "id": "a784743b-692b-4999-88a8-11a237d17885",
   "metadata": {},
   "outputs": [
    {
     "name": "stdout",
     "output_type": "stream",
     "text": [
      "[4, 1, 1, 1]\n"
     ]
    }
   ],
   "source": [
    "r, u = 5, 0xf000f\n",
    "rfs = multiply_out_precursor_set(r, u)[0][1::2]\n",
    "key_masks = [2**(rfs[i].input_size)-1 for i in range(r)] + [2**(rfs[-1].output_size)-1]\n",
    "f = construct_iterated_cipher(rfs, key_masks)\n",
    "model, input_vars, output_vars, key_vars, count_vars = f.to_UT_model()\n",
    "res = {}\n",
    "print([get_divisibility_no_key_dependent_trail(model, input_vars, output_vars, key_vars, count_vars, 0, 1<<i) for i in range(4)])"
   ]
  },
  {
   "cell_type": "markdown",
   "id": "1675e8bc-094e-4b4b-9aa4-0903a033a178",
   "metadata": {},
   "source": [
    "## 6 rounds"
   ]
  },
  {
   "cell_type": "code",
   "execution_count": 182,
   "id": "6cb3a669-b991-4bc0-81a6-35ed06676102",
   "metadata": {},
   "outputs": [
    {
     "name": "stdout",
     "output_type": "stream",
     "text": [
      "0xff0 [1, 0, 0, 0]\n",
      "0x1ff0 [1, 0, 0, 0]\n",
      "0x2ff0 [1, 0, 0, 0]\n",
      "0x3ff0 [1, 0, 0, 0]\n",
      "0x4ff0 [1, 0, 0, 0]\n",
      "0x5ff0 [1, 0, 0, 0]\n",
      "0x6ff0 [1, 0, 0, 0]\n",
      "0x7ff0 [1, 0, 0, 0]\n",
      "0x8ff0 [1, 0, 0, 0]\n",
      "0x9ff0 [1, 0, 0, 0]\n",
      "0xaff0 [1, 0, 0, 0]\n",
      "0xbff0 [1, 0, 0, 0]\n",
      "0xcff0 [1, 0, 0, 0]\n",
      "0xdff0 [1, 0, 0, 0]\n",
      "0xeff0 [2, 0, 0, 0]\n",
      "0xfff0 [4, 1, 2, 1]\n"
     ]
    }
   ],
   "source": [
    "for i in range(16):\n",
    "    r, u = 6, 0xff0 | (i << 12)\n",
    "    rfs = multiply_out_precursor_set(r, u)[0][1::2]\n",
    "    key_masks = [2**(rfs[i].input_size)-1 for i in range(r)] + [2**(rfs[-1].output_size)-1]\n",
    "    f = construct_iterated_cipher(rfs, key_masks)\n",
    "    model, input_vars, output_vars, key_vars, count_vars = f.to_UT_model()\n",
    "    res = {}\n",
    "    print(hex(u), [get_divisibility_no_key_dependent_trail(model, input_vars, output_vars, key_vars, count_vars, 0, 1<<i) for i in range(4)])"
   ]
  },
  {
   "cell_type": "markdown",
   "id": "24344c7e-5f47-4fe7-928c-1c70b6fe1034",
   "metadata": {},
   "source": [
    "## 7 rounds"
   ]
  },
  {
   "cell_type": "code",
   "execution_count": 183,
   "id": "db659c46-1509-4177-8eba-64e79fdd21d2",
   "metadata": {},
   "outputs": [
    {
     "name": "stdout",
     "output_type": "stream",
     "text": [
      "[1, 0, 0, 0]\n"
     ]
    }
   ],
   "source": [
    "r, u = 7, 0xffff\n",
    "rfs = multiply_out_precursor_set(r, u)[0][1::2]\n",
    "key_masks = [2**(rfs[i].input_size)-1 for i in range(r)] + [2**(rfs[-1].output_size)-1]\n",
    "f = construct_iterated_cipher(rfs, key_masks)\n",
    "model, input_vars, output_vars, key_vars, count_vars = f.to_UT_model()\n",
    "res = {}\n",
    "print([get_divisibility_no_key_dependent_trail(model, input_vars, output_vars, key_vars, count_vars, 0, 1<<i) for i in range(4)])"
   ]
  },
  {
   "cell_type": "markdown",
   "id": "3ad52092-232e-4157-ac53-a81f325e141a",
   "metadata": {},
   "source": [
    "## 8 rounds"
   ]
  },
  {
   "cell_type": "code",
   "execution_count": 184,
   "id": "dd0f66dd-ffe2-4973-b92c-08cf4db69ea9",
   "metadata": {},
   "outputs": [
    {
     "name": "stdout",
     "output_type": "stream",
     "text": [
      "0xffffffffffff0000 [1, 0, 0, 0]\n",
      "0xffffffffffff0001 [1, 0, 0, 0]\n",
      "0xffffffffffff0002 [1, 0, 0, 0]\n",
      "0xffffffffffff0003 [2, 0, 1, 0]\n",
      "0xffffffffffff0004 [1, 0, 0, 0]\n",
      "0xffffffffffff0005 [2, 0, 1, 0]\n",
      "0xffffffffffff0006 [1, 0, 0, 0]\n",
      "0xffffffffffff0007 [2, 0, 1, 0]\n",
      "0xffffffffffff0008 [1, 0, 0, 0]\n",
      "0xffffffffffff0009 [2, 0, 1, 0]\n",
      "0xffffffffffff000a [2, 0, 1, 0]\n",
      "0xffffffffffff000b [2, 0, 1, 0]\n",
      "0xffffffffffff000c [2, 0, 1, 0]\n",
      "0xffffffffffff000d [2, 0, 1, 0]\n",
      "0xffffffffffff000e [2, 0, 1, 0]\n",
      "0xffffffffffff000f [2, 1, 1, 1]\n"
     ]
    }
   ],
   "source": [
    "for i in range(16):\n",
    "    r, u = 8, 0xffffffffffff0000 | i\n",
    "    rfs = multiply_out_precursor_set(r, u)[0][1::2]\n",
    "    key_masks = [2**(rfs[i].input_size)-1 for i in range(r)] + [2**(rfs[-1].output_size)-1]\n",
    "    f = construct_iterated_cipher(rfs, key_masks)\n",
    "    model, input_vars, output_vars, key_vars, count_vars = f.to_UT_model()\n",
    "    res = {}\n",
    "    print(hex(u), [get_divisibility_no_key_dependent_trail(model, input_vars, output_vars, key_vars, count_vars, 0, 1<<i) for i in range(4)])"
   ]
  },
  {
   "cell_type": "markdown",
   "id": "9d7e288e-261f-43e5-ba6a-95b0f2dc4c37",
   "metadata": {},
   "source": [
    "## 9 rounds"
   ]
  },
  {
   "cell_type": "code",
   "execution_count": 185,
   "id": "b29c915e-d986-4eb2-b061-65268bced701",
   "metadata": {},
   "outputs": [
    {
     "name": "stdout",
     "output_type": "stream",
     "text": [
      "0xfffffffffffffff0 [1, 0, 0, 0]\n",
      "0xfffffffffffffff1 [1, 0, 0, 0]\n",
      "0xfffffffffffffff2 [1, 0, 0, 0]\n",
      "0xfffffffffffffff3 [1, 0, 0, 0]\n",
      "0xfffffffffffffff4 [1, 0, 0, 0]\n",
      "0xfffffffffffffff5 [1, 0, 0, 0]\n",
      "0xfffffffffffffff6 [1, 0, 0, 0]\n",
      "0xfffffffffffffff7 [1, 0, 0, 0]\n",
      "0xfffffffffffffff8 [1, 0, 0, 0]\n",
      "0xfffffffffffffff9 [1, 0, 0, 0]\n",
      "0xfffffffffffffffa [1, 0, 0, 0]\n",
      "0xfffffffffffffffb [1, 0, 0, 0]\n",
      "0xfffffffffffffffc [1, 0, 0, 0]\n",
      "0xfffffffffffffffd [1, 0, 0, 0]\n",
      "0xfffffffffffffffe [2, 1, 1, 1]\n"
     ]
    }
   ],
   "source": [
    "for i in range(15):\n",
    "    r, u = 9, 0xfffffffffffffff0 | i\n",
    "    rfs = multiply_out_precursor_set(r, u)[0][1::2]\n",
    "    key_masks = [2**(rfs[i].input_size)-1 for i in range(r)] + [2**(rfs[-1].output_size)-1]\n",
    "    f = construct_iterated_cipher(rfs, key_masks)\n",
    "    model, input_vars, output_vars, key_vars, count_vars = f.to_UT_model()\n",
    "    res = {}\n",
    "    print(hex(u), [get_divisibility_no_key_dependent_trail(model, input_vars, output_vars, key_vars, count_vars, 0, 1<<i) for i in range(4)])"
   ]
  },
  {
   "cell_type": "code",
   "execution_count": null,
   "id": "7364aef8-35e8-4153-bb2f-17759e56c5ea",
   "metadata": {},
   "outputs": [],
   "source": []
  }
 ],
 "metadata": {
  "kernelspec": {
   "display_name": "Python 3 (ipykernel)",
   "language": "python",
   "name": "python3"
  },
  "language_info": {
   "codemirror_mode": {
    "name": "ipython",
    "version": 3
   },
   "file_extension": ".py",
   "mimetype": "text/x-python",
   "name": "python",
   "nbconvert_exporter": "python",
   "pygments_lexer": "ipython3",
   "version": "3.11.6"
  }
 },
 "nbformat": 4,
 "nbformat_minor": 5
}
