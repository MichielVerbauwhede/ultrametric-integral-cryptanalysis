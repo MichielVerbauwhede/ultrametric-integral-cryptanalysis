{
 "cells": [
  {
   "cell_type": "markdown",
   "id": "f034943c-c279-4654-bbed-ddf6f8b0704d",
   "metadata": {},
   "source": [
    "# Setup"
   ]
  },
  {
   "cell_type": "code",
   "execution_count": 1,
   "id": "9d78d2ed-ecf6-46a9-a443-5ae9e890dbd5",
   "metadata": {},
   "outputs": [],
   "source": [
    "import sys\n",
    "sys.path.append(\"../../.\")\n",
    "\n",
    "NThreads = 16"
   ]
  },
  {
   "cell_type": "code",
   "execution_count": 2,
   "id": "4dc33802-a1c5-4e0b-95ee-91e07373498e",
   "metadata": {},
   "outputs": [],
   "source": [
    "from Construction.Components import Component, get_XORn, get_COPYn\n",
    "from Construction.CompoundFunction import CompoundFunction, INPUT_ID, OUTPUT_ID\n",
    "from Construction.IteratedCipher import construct_iterated_cipher"
   ]
  },
  {
   "cell_type": "code",
   "execution_count": 3,
   "id": "fa4bb798-f617-4948-9e05-c583cbd5128d",
   "metadata": {},
   "outputs": [],
   "source": [
    "class lshiftAND(Component):\n",
    "\n",
    "    def __init__(self, n, l):\n",
    "        super().__init__(n, n)\n",
    "        self.n = n\n",
    "        self.l = l\n",
    "\n",
    "\n",
    "    @staticmethod\n",
    "    def lshift(x, s, n):\n",
    "        return ((x & (2**(n-s)-1)) << s) | (x >> (n-s))\n",
    "\n",
    "    def __call__(self, v):\n",
    "        r = 2**self.n - 1\n",
    "        for s in self.l:\n",
    "            r &= lshiftAND.lshift(v, s, self.n)\n",
    "        return r\n",
    "    \n",
    "    def compute_parity_propagation_model(self, input_key_mask, output_key_mask): #ignoring input and output key mask\n",
    "        clauses = []\n",
    "        output_vars = list(range(self.n+1, 2*self.n+1))\n",
    "        for i in range(self.n):\n",
    "            clauses.append((-(i+1), ) + tuple(output_vars[(i+s) % self.n] for s in self.l))\n",
    "            for s in self.l:\n",
    "                clauses.append((i+1, -output_vars[(i+s) % self.n]))\n",
    "        return tuple(clauses)\n",
    "\n",
    "    def compute_UT_propagation_model(self):\n",
    "        return self.compute_parity_propagation_model(0, 0), 0"
   ]
  },
  {
   "cell_type": "code",
   "execution_count": 4,
   "id": "17ebae37-6e20-403d-bf69-2e9482564e51",
   "metadata": {},
   "outputs": [],
   "source": [
    "# builds the simon round function, also allows for variations on the rotations, such as simeck\n",
    "def generate_SIMON_round_function(n, var=(8,1,2)):\n",
    "    f = CompoundFunction(3*n, 2*n) # last 16 bits of input are key material\n",
    "    cids = [f.add_component(get_COPYn(3)) for _ in range(n)]\n",
    "    fid = f.add_component(lshiftAND(n, var[:2]))\n",
    "    xids = [f.add_component(get_XORn(4)) for _ in range(n)]\n",
    "    for i in range(n):\n",
    "        f.connect_components(INPUT_ID, i, xids[i], 0)\n",
    "        f.connect_components(INPUT_ID, n+i, cids[i], 0)\n",
    "        f.connect_components(INPUT_ID, 2*n+i, xids[i], 1)\n",
    "        f.connect_components(cids[i], 0, OUTPUT_ID, i)\n",
    "        f.connect_components(cids[i], 1, fid, i)\n",
    "        f.connect_components(cids[(i-var[2]) % n], 2, xids[i], 2)\n",
    "        f.connect_components(fid, i, xids[i], 3)\n",
    "        f.connect_components(xids[i], 0, OUTPUT_ID, i+n)\n",
    "    return f"
   ]
  },
  {
   "cell_type": "code",
   "execution_count": 5,
   "id": "d5785f03-47cb-42b3-8b6d-eb1beb56aa8f",
   "metadata": {},
   "outputs": [],
   "source": [
    "def build_SIMON(n, r, var=(8,1,2)):\n",
    "    rf = generate_SIMON_round_function(n, var)\n",
    "    f = CompoundFunction(2*n, 2*n)\n",
    "    state = [(INPUT_ID, i) for i in range(2*n)]\n",
    "    for _ in range(r):\n",
    "        cid = f.add_component(rf)\n",
    "        for i in range(n):\n",
    "            f.connect_components(*state[i], cid, i)\n",
    "            f.connect_components(*state[i+n], cid, i+n)\n",
    "            f.connect_to_key(cid, i+2*n)\n",
    "            state[i] = (cid, i)\n",
    "            state[i+n] = (cid, i+n)\n",
    "    for i in range(2*n):\n",
    "        f.connect_components(*state[i], OUTPUT_ID, i)\n",
    "    return f\n",
    "\n",
    "# build simon without the first round, but with the first key addition. (This is the version we will analyse)\n",
    "def build_SIMON_var(n, r, var=(8,1,2)): \n",
    "    rf = generate_SIMON_round_function(n, var)\n",
    "    f = CompoundFunction(2*n, 2*n)\n",
    "    state = [(INPUT_ID, i) for i in range(2*n)]\n",
    "    xids = [f.add_component(get_XORn(2)) for _ in range(n)]\n",
    "    for i in range(n):\n",
    "        f.connect_components(*state[n+i], xids[i], 0)\n",
    "        f.connect_to_key(xids[i], 1)\n",
    "        state[n+i] = (xids[i], 0)\n",
    "    for _ in range(r):\n",
    "        cid = f.add_component(rf)\n",
    "        for i in range(n):\n",
    "            f.connect_components(*state[i], cid, i)\n",
    "            f.connect_components(*state[i+n], cid, i+n)\n",
    "            f.connect_to_key(cid, i+2*n)\n",
    "            state[i] = (cid, i)\n",
    "            state[i+n] = (cid, i+n)\n",
    "    for i in range(2*n):\n",
    "        f.connect_components(*state[i], OUTPUT_ID, i)\n",
    "    return f"
   ]
  },
  {
   "cell_type": "code",
   "execution_count": 6,
   "id": "1fe40434-c288-45a6-9ece-a5950abaad72",
   "metadata": {},
   "outputs": [],
   "source": [
    "from Modelling.UT_Trails import get_divisibility_no_trail, get_divisibility_no_key_dependent_trail, get_divisibility_no_key_dependence, get_divisibility_of_key_dependence_no_trail"
   ]
  },
  {
   "cell_type": "code",
   "execution_count": 7,
   "id": "f376c91e-5c93-4eca-94c0-634904605024",
   "metadata": {},
   "outputs": [],
   "source": [
    "from multiprocessing import Pool\n",
    "from functools import partial\n",
    "from time import time\n",
    "def test(n, r, u, strong=False): # test the divisibility of the output bits, return the minimum and maximum divisibility for both halves\n",
    "    f = build_SIMON_var(n, r)\n",
    "    model, input_vars, output_vars, key_vars, count_vars = f.to_UT_model()\n",
    "    with Pool(NThreads) as pool:\n",
    "        if strong:\n",
    "            return list(pool.map(partial(get_divisibility_no_key_dependent_trail, model, input_vars, output_vars, key_vars, count_vars, u), [1<<i for i in range(2*n)], 1))\n",
    "        return list(pool.map(partial(get_divisibility_no_trail, model, input_vars, output_vars, key_vars, count_vars, u), [1<<i for i in range(2*n)], 1))"
   ]
  },
  {
   "cell_type": "markdown",
   "id": "09316807-01b4-438c-9b03-46ad80721397",
   "metadata": {},
   "source": [
    "# Properties"
   ]
  },
  {
   "cell_type": "markdown",
   "id": "05612392-2a91-467c-a4e7-06e1f41cbb10",
   "metadata": {},
   "source": [
    " ## Simon-32"
   ]
  },
  {
   "cell_type": "code",
   "execution_count": 8,
   "id": "0e768f8a-fb01-490b-8013-e0f929e75d67",
   "metadata": {},
   "outputs": [
    {
     "name": "stdout",
     "output_type": "stream",
     "text": [
      "32 7 0x1ffff [7, 6, 7, 6, 6, 6, 7, 7, 7, 7, 6, 6, 6, 7, 7, 7, 3, 3, 2, 2, 3, 3, 3, 3, 3, 2, 3, 3, 2, 2, 3, 3] 7.574222803115845\n",
      "32 8 0x1ffffff [6, 6, 6, 7, 7, 7, 6, 6, 6, 6, 7, 7, 7, 7, 6, 5, 3, 3, 2, 3, 3, 3, 3, 3, 3, 3, 3, 3, 3, 3, 3, 3] 16.92855215072632\n",
      "32 9 0x1fffffff [5, 5, 5, 5, 5, 5, 5, 5, 5, 5, 5, 5, 5, 5, 5, 5, 3, 3, 3, 3, 3, 3, 3, 3, 3, 3, 3, 3, 3, 3, 3, 3] 34.46174430847168\n",
      "32 10 0x7fffffff [4, 4, 4, 4, 4, 4, 4, 4, 4, 4, 4, 4, 4, 4, 4, 4, 3, 3, 3, 3, 3, 3, 3, 3, 3, 3, 3, 3, 3, 3, 3, 3] 45.0351505279541\n",
      "32 11 0x7fffffff [3, 3, 3, 3, 3, 3, 3, 3, 3, 3, 3, 3, 3, 3, 3, 3, 2, 2, 2, 2, 2, 2, 2, 2, 2, 2, 2, 2, 2, 2, 2, 2] 14.748093128204346\n",
      "32 12 0x7fffffff [2, 2, 2, 2, 2, 2, 2, 2, 2, 2, 2, 2, 2, 2, 2, 2, 1, 1, 1, 1, 1, 1, 1, 1, 1, 1, 1, 1, 1, 1, 1, 1] 5.279537677764893\n",
      "32 13 0x7fffffff [1, 1, 1, 1, 1, 1, 1, 1, 1, 1, 1, 1, 1, 1, 1, 1, 1, 1, 1, 1, 1, 1, 1, 1, 1, 1, 1, 1, 1, 1, 1, 1] 3.6914780139923096\n",
      "32 14 0x7fffffff [1, 1, 1, 1, 1, 1, 1, 1, 1, 1, 1, 1, 1, 1, 1, 1, 1, 0, 0, 0, 0, 0, 0, 1, 0, 0, 0, 0, 0, 0, 1, 0] 7.06437087059021\n",
      "32 15 0x7fffffff [1, 0, 0, 0, 0, 0, 0, 1, 0, 0, 0, 0, 0, 0, 1, 0, 0, 0, 0, 0, 0, 0, 0, 0, 0, 0, 0, 0, 0, 0, 0, 0] 5.611281394958496\n"
     ]
    }
   ],
   "source": [
    "l = [(16, 6, 2**17-1), (16, 7, 2**25-1), (16, 8, 2**29-1), (16, 9, 2**31-1), (16, 10, 2**31-1), (16, 11, 2**31-1), (16, 12, 2**31-1), (16, 13, 2**31-1), (16, 14, 2**31-1)]\n",
    "for t in l:\n",
    "    start = time()\n",
    "    print(2*t[0], t[1]+1, hex(t[2]), test(*t, strong=True), time()-start)"
   ]
  },
  {
   "cell_type": "markdown",
   "id": "ee5d4482-1438-4b02-839b-9936343f9266",
   "metadata": {},
   "source": [
    "## Simon-48"
   ]
  },
  {
   "cell_type": "code",
   "execution_count": 10,
   "id": "1774d105-3793-4ac4-9fba-c7ea3de3917e",
   "metadata": {},
   "outputs": [
    {
     "name": "stdout",
     "output_type": "stream",
     "text": [
      "48 7 0x1ffff [10, 9, 9, 8, 9, 9, 9, 10, 9, 9, 8, 8, 8, 8, 7, 7, 7, 7, 7, 6, 6, 7, 8, 9, 4, 4, 4, 4, 4, 4, 4, 5, 5, 5, 5, 4, 4, 4, 4, 4, 3, 3, 3, 3, 3, 2, 2, 3] 19.37536334991455\n",
      "48 8 0x1fffffff [10, 9, 9, 8, 8, 8, 9, 9, 9, 8, 8, 7, 6, 6, 7, 7, 8, 9, 9, 8, 8, 8, 8, 9, 4, 4, 4, 4, 3, 3, 3, 4, 4, 4, 3, 3, 2, 2, 2, 2, 3, 3, 3, 3, 3, 3, 3, 4] 61.78871035575867\n",
      "48 9 0x7fffffffff [8, 8, 8, 8, 7, 7, 8, 8, 8, 8, 8, 7, 7, 7, 7, 6, 7, 7, 7, 7, 7, 7, 7, 7, 4, 4, 4, 4, 4, 4, 4, 4, 4, 4, 4, 4, 4, 3, 3, 3, 3, 4, 4, 4, 4, 4, 4, 4] 1620.1815016269684\n",
      "48 10 0xfffffffffff [6, 6, 6, 6, 6, 6, 6, 6, 6, 6, 6, 6, 6, 6, 6, 5, 6, 6, 6, 6, 6, 6, 6, 6, 4, 4, 4, 4, 4, 4, 4, 4, 4, 4, 4, 4, 4, 4, 4, 4, 4, 3, 4, 4, 4, 4, 4, 4] 7170.868550300598\n",
      "48 11 0x3fffffffffff [5, 5, 5, 5, 5, 5, 5, 4, 5, 5, 5, 5, 5, 5, 5, 5, 5, 5, 5, 5, 5, 5, 5, 5, 3, 3, 3, 3, 3, 3, 3, 3, 3, 3, 3, 3, 3, 3, 3, 3, 3, 3, 3, 3, 3, 3, 3, 3] 26207.42924451828\n",
      "48 12 0x7fffffffffff [4, 4, 4, 4, 4, 4, 4, 4, 4, 4, 4, 4, 4, 4, 4, 4, 4, 4, 4, 4, 4, 4, 4, 4, 3, 2, 3, 3, 3, 3, 3, 3, 2, 3, 3, 3, 2, 2, 2, 2, 3, 2, 2, 2, 2, 2, 3, 2] 23530.430506944656\n",
      "48 13 0x7fffffffffff [3, 2, 3, 3, 3, 3, 3, 3, 2, 3, 3, 3, 2, 2, 2, 2, 3, 2, 2, 2, 2, 2, 3, 2, 2, 2, 2, 2, 2, 2, 2, 2, 2, 2, 2, 2, 2, 2, 2, 2, 2, 2, 2, 2, 2, 2, 2, 2] 8018.571726799011\n",
      "48 14 0x7fffffffffff [2, 2, 2, 2, 2, 2, 2, 2, 2, 2, 2, 2, 2, 2, 2, 2, 2, 2, 2, 2, 2, 2, 2, 2, 1, 1, 1, 1, 1, 1, 1, 1, 1, 1, 1, 1, 1, 1, 1, 1, 1, 1, 1, 1, 1, 1, 1, 1] 231.9393744468689\n",
      "48 15 0x7fffffffffff [1, 1, 1, 1, 1, 1, 1, 1, 1, 1, 1, 1, 1, 1, 1, 1, 1, 1, 1, 1, 1, 1, 1, 1, 1, 1, 1, 1, 1, 1, 1, 1, 1, 1, 1, 1, 1, 1, 1, 1, 1, 1, 1, 1, 1, 1, 1, 1] 22.51023554801941\n",
      "48 16 0x7fffffffffff [1, 1, 1, 1, 1, 1, 1, 1, 1, 1, 1, 1, 1, 1, 1, 1, 1, 1, 1, 1, 1, 1, 1, 1, 0, 0, 0, 0, 0, 0, 0, 0, 0, 0, 0, 0, 0, 0, 0, 0, 0, 0, 0, 0, 0, 0, 0, 0] 14.271681785583496\n",
      "48 17 0x7fffffffffff [0, 0, 0, 0, 0, 0, 0, 0, 0, 0, 0, 0, 0, 0, 0, 0, 0, 0, 0, 0, 0, 0, 0, 0, 0, 0, 0, 0, 0, 0, 0, 0, 0, 0, 0, 0, 0, 0, 0, 0, 0, 0, 0, 0, 0, 0, 0, 0] 5.849486351013184\n"
     ]
    }
   ],
   "source": [
    "l = [(24, 6, 2**17-1), (24, 7, 2**29-1), (24, 8, 2**39-1), (24, 9, 2**44-1), (24, 10, 2**46-1), (24, 11, 2**47-1), (24, 12, 2**47-1), (24, 13, 2**47-1), (24, 14, 2**47-1), (24, 15, 2**47-1), (24, 16, 2**47-1)]\n",
    "for t in l:\n",
    "    start = time()\n",
    "    print(2*t[0], t[1]+1, hex(t[2]), test(*t, strong=False), time()-start)"
   ]
  },
  {
   "cell_type": "markdown",
   "id": "648cdc44-ee61-4165-b3e2-259b9ad75d0d",
   "metadata": {},
   "source": [
    "## Simon-64"
   ]
  },
  {
   "cell_type": "code",
   "execution_count": 11,
   "id": "fbeaf18a-63b7-4221-92b6-6ea7218fcca2",
   "metadata": {},
   "outputs": [
    {
     "name": "stdout",
     "output_type": "stream",
     "text": [
      "64 7 0x1ffff [13, 13, 12, 12, 13, 13, 13, 13, 13, 12, 12, 12, 11, 10, 9, 9, 8, 9, 8, 7, 6, 7, 8, 9, 10, 9, 10, 10, 11, 12, 13, 13, 10, 9, 10, 9, 9, 9, 9, 10, 9, 10, 9, 9, 9, 9, 8, 7, 6, 5, 5, 5, 4, 3, 3, 4, 4, 5, 5, 5, 6, 7, 8, 9] 100.57196974754333\n"
     ]
    }
   ],
   "source": [
    "t = (32, 6, 2**17-1)\n",
    "start = time()\n",
    "print(2*t[0], t[1]+1, hex(t[2]), test(*t, strong=False), time()-start)"
   ]
  },
  {
   "cell_type": "code",
   "execution_count": 20,
   "id": "1c152749-0b88-42ff-9890-4715a728540a",
   "metadata": {},
   "outputs": [
    {
     "name": "stdout",
     "output_type": "stream",
     "text": [
      "64 8 0x1ffffffff [12, 13, 13, 13, 13, 13, 13, 12, 13, 12, 12, 12, 12, 12, 12, 13, 12, 13, 12, 12, 12, 13, 13, 13, 13, 12, 12, 13, 13, 13, 13, 13, 7, 6, 7, 7, 7, 7, 7, 7, 7, 7, 6, 6, 6, 6, 6, 6, 7, 6, 7, 6, 6, 6, 7, 7, 7, 7, 6, 6, 7, 7, 7, 7] 197.04599738121033\n"
     ]
    }
   ],
   "source": [
    "t = (32, 7, 2**33-1)\n",
    "start = time()\n",
    "print(2*t[0], t[1]+1, hex(t[2]), test(*t, strong=False), time()-start)"
   ]
  },
  {
   "cell_type": "code",
   "execution_count": 13,
   "id": "035108e7-9b42-477a-be4b-f6e255e4f849",
   "metadata": {},
   "outputs": [
    {
     "name": "stdout",
     "output_type": "stream",
     "text": [
      "64 17 0x7fffffffffffffff [1, 1, 1, 1, 1, 1, 1, 1, 1, 1, 1, 1, 1, 1, 1, 1, 1, 1, 1, 1, 1, 1, 1, 1, 1, 1, 1, 1, 1, 1, 1, 1, 1, 1, 1, 1, 1, 1, 1, 1, 1, 1, 0, 0, 0, 0, 0, 1, 0, 0, 0, 0, 0, 1, 1, 1, 1, 1, 1, 1, 1, 1, 1, 1] 139.23929023742676\n"
     ]
    }
   ],
   "source": [
    "t = (32, 16, 2**63-1)\n",
    "start = time()\n",
    "print(2*t[0], t[1]+1, hex(t[2]), test(*t, strong=False), time()-start)"
   ]
  },
  {
   "cell_type": "code",
   "execution_count": 14,
   "id": "de001cde-d4ca-4b6d-bba0-57c40650950e",
   "metadata": {},
   "outputs": [
    {
     "name": "stdout",
     "output_type": "stream",
     "text": [
      "64 18 0x7fffffffffffffff [1, 1, 1, 1, 1, 1, 1, 1, 1, 1, 0, 0, 0, 0, 0, 1, 0, 0, 0, 0, 0, 1, 1, 1, 1, 1, 1, 1, 1, 1, 1, 1, 0, 0, 0, 0, 0, 0, 0, 0, 0, 0, 0, 0, 0, 0, 0, 0, 0, 0, 0, 0, 0, 0, 0, 0, 0, 0, 0, 0, 0, 0, 0, 0] 44.29720687866211\n"
     ]
    }
   ],
   "source": [
    "t = (32, 17, 2**63-1)\n",
    "start = time()\n",
    "print(2*t[0], t[1]+1, hex(t[2]), test(*t, strong=False), time()-start)"
   ]
  },
  {
   "cell_type": "markdown",
   "id": "7514b8ec-d598-4cae-a882-01d25283eaeb",
   "metadata": {},
   "source": [
    "## Simon-96"
   ]
  },
  {
   "cell_type": "code",
   "execution_count": 15,
   "id": "b68a01ad-7545-4fdc-871d-482130ae2e08",
   "metadata": {},
   "outputs": [
    {
     "name": "stdout",
     "output_type": "stream",
     "text": [
      "96 7 0x1ffff [16, 16, 16, 16, 16, 16, 16, 16, 16, 15, 14, 13, 12, 11, 10, 10, 9, 9, 8, 7, 6, 7, 8, 9, 10, 9, 10, 10, 11, 12, 13, 13, 13, 13, 13, 14, 15, 15, 15, 15, 15, 15, 16, 16, 16, 16, 16, 16, 15, 14, 15, 15, 15, 15, 15, 15, 14, 15, 14, 13, 12, 11, 10, 9, 8, 7, 6, 5, 4, 3, 3, 4, 4, 5, 5, 5, 6, 7, 8, 9, 10, 9, 10, 10, 11, 12, 13, 13, 13, 13, 13, 14, 15, 15, 15, 15] 1047.6381611824036\n"
     ]
    }
   ],
   "source": [
    "t = (48, 6, 2**17-1)\n",
    "start = time()\n",
    "print(2*t[0], t[1]+1, hex(t[2]), test(*t, strong=False), time()-start)"
   ]
  },
  {
   "cell_type": "code",
   "execution_count": 16,
   "id": "8c3498f9-26ee-4104-b894-cfaf217e8c0c",
   "metadata": {},
   "outputs": [
    {
     "name": "stdout",
     "output_type": "stream",
     "text": [
      "96 8 0x1ffffffff [25, 24, 25, 24, 24, 24, 25, 25, 24, 25, 24, 24, 24, 24, 23, 22, 21, 20, 20, 20, 19, 18, 17, 17, 16, 17, 16, 15, 14, 14, 14, 14, 14, 13, 13, 13, 13, 14, 15, 16, 17, 18, 19, 20, 21, 22, 23, 24, 17, 18, 18, 18, 18, 18, 18, 18, 19, 18, 18, 18, 18, 18, 18, 18, 17, 17, 16, 16, 16, 16, 15, 14, 13, 12, 12, 12, 11, 10, 9, 9, 8, 9, 8, 7, 7, 7, 8, 9, 10, 10, 11, 12, 13, 14, 15, 16] 4912.761736869812\n"
     ]
    }
   ],
   "source": [
    "t = (48, 7, 2**33-1)\n",
    "start = time()\n",
    "print(2*t[0], t[1]+1, hex(t[2]), test(*t, strong=False), time()-start)"
   ]
  },
  {
   "cell_type": "code",
   "execution_count": 17,
   "id": "58a3ff96-062c-4ab6-a790-b6856b3816e1",
   "metadata": {},
   "outputs": [
    {
     "name": "stdout",
     "output_type": "stream",
     "text": [
      "96 21 0x7fffffffffffffffffffffff [1, 1, 1, 1, 1, 1, 1, 1, 1, 1, 1, 1, 1, 1, 1, 0, 0, 0, 0, 0, 0, 0, 0, 0, 0, 0, 0, 0, 0, 0, 0, 0, 1, 1, 1, 1, 1, 1, 1, 1, 1, 1, 1, 1, 1, 1, 1, 1, 0, 1, 0, 0, 0, 0, 1, 0, 0, 0, 0, 0, 0, 0, 0, 0, 0, 0, 0, 0, 0, 0, 0, 0, 0, 0, 0, 0, 0, 0, 0, 0, 0, 0, 0, 0, 0, 0, 0, 0, 1, 0, 0, 0, 0, 1, 0, 1] 129.90634417533875\n"
     ]
    }
   ],
   "source": [
    "t = (48, 20, 2**95-1)\n",
    "start = time()\n",
    "print(2*t[0], t[1]+1, hex(t[2]), test(*t, strong=False), time()-start)"
   ]
  },
  {
   "cell_type": "code",
   "execution_count": 18,
   "id": "d0880333-ca46-400a-bcad-08a139d3302c",
   "metadata": {},
   "outputs": [
    {
     "name": "stdout",
     "output_type": "stream",
     "text": [
      "96 22 0x7fffffffffffffffffffffff [0, 1, 0, 0, 0, 0, 1, 0, 0, 0, 0, 0, 0, 0, 0, 0, 0, 0, 0, 0, 0, 0, 0, 0, 0, 0, 0, 0, 0, 0, 0, 0, 0, 0, 0, 0, 0, 0, 0, 0, 1, 0, 0, 0, 0, 1, 0, 1, 0, 0, 0, 0, 0, 0, 0, 0, 0, 0, 0, 0, 0, 0, 0, 0, 0, 0, 0, 0, 0, 0, 0, 0, 0, 0, 0, 0, 0, 0, 0, 0, 0, 0, 0, 0, 0, 0, 0, 0, 0, 0, 0, 0, 0, 0, 0, 0] 56.9312903881073\n"
     ]
    }
   ],
   "source": [
    "t = (48, 21, 2**95-1)\n",
    "start = time()\n",
    "print(2*t[0], t[1]+1, hex(t[2]), test(*t, strong=False), time()-start)"
   ]
  },
  {
   "cell_type": "markdown",
   "id": "4fa4a64b-1490-4c03-9749-fb47123e3877",
   "metadata": {},
   "source": [
    "## Simon-128"
   ]
  },
  {
   "cell_type": "code",
   "execution_count": 21,
   "id": "9866aba1-d72a-4fd9-8316-5ae6511ec764",
   "metadata": {
    "scrolled": true
   },
   "outputs": [
    {
     "name": "stdout",
     "output_type": "stream",
     "text": [
      "128 7 0x1ffff [16, 16, 16, 16, 16, 16, 16, 16, 16, 15, 14, 13, 12, 11, 10, 10, 9, 9, 8, 7, 6, 7, 8, 9, 10, 9, 10, 10, 11, 12, 13, 13, 13, 13, 13, 14, 15, 15, 15, 15, 15, 15, 16, 16, 16, 16, 16, 16, 16, 17, 17, 17, 17, 17, 17, 17, 17, 17, 17, 17, 17, 17, 17, 17, 17, 16, 16, 16, 16, 16, 16, 16, 15, 15, 14, 13, 12, 11, 10, 9, 8, 7, 6, 5, 4, 3, 3, 4, 4, 5, 5, 5, 6, 7, 8, 9, 10, 9, 10, 10, 11, 12, 13, 13, 13, 13, 13, 14, 15, 15, 15, 15, 15, 15, 16, 16, 16, 16, 16, 16, 16, 17, 17, 17, 17, 17, 17, 17] 4099.448934555054\n"
     ]
    }
   ],
   "source": [
    "t = (64, 6, 2**17-1)\n",
    "start = time()\n",
    "print(2*t[0], t[1]+1, hex(t[2]), test(*t, strong=False), time()-start)"
   ]
  },
  {
   "cell_type": "code",
   "execution_count": 22,
   "id": "9dc5dca5-73b9-4d05-b961-ea34a4c95df4",
   "metadata": {},
   "outputs": [
    {
     "name": "stdout",
     "output_type": "stream",
     "text": [
      "128 8 0x1ffffffff [31, 30, 31, 31, 31, 31, 31, 31, 30, 31, 30, 29, 28, 27, 26, 25, 24, 23, 22, 21, 20, 19, 18, 18, 17, 17, 16, 15, 14, 14, 14, 14, 14, 13, 13, 13, 13, 14, 15, 16, 17, 18, 19, 20, 21, 22, 23, 24, 25, 25, 26, 26, 27, 28, 29, 29, 29, 29, 29, 30, 31, 31, 31, 31, 29, 29, 28, 28, 29, 29, 29, 29, 29, 28, 28, 28, 27, 26, 25, 24, 23, 23, 22, 21, 20, 19, 18, 17, 16, 15, 14, 13, 12, 11, 10, 10, 9, 9, 8, 7, 7, 7, 8, 9, 10, 10, 11, 12, 13, 14, 15, 16, 17, 18, 19, 20, 21, 22, 23, 24, 25, 25, 26, 26, 27, 28, 29, 29] 32500.25850367546\n"
     ]
    }
   ],
   "source": [
    "t = (64, 7, 2**33-1)\n",
    "start = time()\n",
    "print(2*t[0], t[1]+1, hex(t[2]), test(*t, strong=False), time()-start)"
   ]
  },
  {
   "cell_type": "code",
   "execution_count": 23,
   "id": "0ccbcf04-728f-431e-acf0-e2f8b9e7c73b",
   "metadata": {},
   "outputs": [
    {
     "name": "stdout",
     "output_type": "stream",
     "text": [
      "128 25 0x7fffffffffffffffffffffffffffffff [1, 1, 1, 1, 1, 1, 1, 1, 1, 1, 0, 0, 0, 0, 0, 0, 0, 0, 0, 0, 0, 0, 0, 0, 0, 0, 0, 0, 0, 0, 0, 0, 0, 0, 0, 0, 0, 0, 0, 0, 0, 0, 0, 0, 0, 0, 0, 0, 0, 0, 0, 0, 0, 1, 1, 1, 1, 1, 1, 1, 1, 1, 1, 1, 0, 1, 0, 0, 0, 0, 0, 0, 0, 0, 0, 0, 0, 0, 0, 0, 0, 0, 0, 0, 0, 0, 0, 0, 0, 0, 0, 0, 0, 0, 0, 0, 0, 0, 0, 0, 0, 0, 0, 0, 0, 0, 0, 0, 0, 0, 0, 0, 0, 0, 0, 0, 0, 0, 0, 0, 0, 0, 0, 0, 0, 1, 0, 1] 239.26971769332886\n"
     ]
    }
   ],
   "source": [
    "t = (64, 24, 2**127-1)\n",
    "start = time()\n",
    "print(2*t[0], t[1]+1, hex(t[2]), test(*t, strong=False), time()-start)"
   ]
  },
  {
   "cell_type": "code",
   "execution_count": 24,
   "id": "0c3d82cb-6694-4efa-a4d1-355ca5d1958c",
   "metadata": {},
   "outputs": [
    {
     "name": "stdout",
     "output_type": "stream",
     "text": [
      "128 26 0x7fffffffffffffffffffffffffffffff [0, 1, 0, 0, 0, 0, 0, 0, 0, 0, 0, 0, 0, 0, 0, 0, 0, 0, 0, 0, 0, 0, 0, 0, 0, 0, 0, 0, 0, 0, 0, 0, 0, 0, 0, 0, 0, 0, 0, 0, 0, 0, 0, 0, 0, 0, 0, 0, 0, 0, 0, 0, 0, 0, 0, 0, 0, 0, 0, 0, 0, 1, 0, 1, 0, 0, 0, 0, 0, 0, 0, 0, 0, 0, 0, 0, 0, 0, 0, 0, 0, 0, 0, 0, 0, 0, 0, 0, 0, 0, 0, 0, 0, 0, 0, 0, 0, 0, 0, 0, 0, 0, 0, 0, 0, 0, 0, 0, 0, 0, 0, 0, 0, 0, 0, 0, 0, 0, 0, 0, 0, 0, 0, 0, 0, 0, 0, 0] 189.58946323394775\n"
     ]
    }
   ],
   "source": [
    "t = (64, 25, 2**127-1)\n",
    "start = time()\n",
    "print(2*t[0], t[1]+1, hex(t[2]), test(*t, strong=False), time()-start)"
   ]
  }
 ],
 "metadata": {
  "kernelspec": {
   "display_name": "Python 3 (ipykernel)",
   "language": "python",
   "name": "python3"
  },
  "language_info": {
   "codemirror_mode": {
    "name": "ipython",
    "version": 3
   },
   "file_extension": ".py",
   "mimetype": "text/x-python",
   "name": "python",
   "nbconvert_exporter": "python",
   "pygments_lexer": "ipython3",
   "version": "3.11.6"
  }
 },
 "nbformat": 4,
 "nbformat_minor": 5
}
