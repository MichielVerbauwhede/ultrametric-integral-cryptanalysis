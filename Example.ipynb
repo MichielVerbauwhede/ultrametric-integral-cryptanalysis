{
 "cells": [
  {
   "cell_type": "markdown",
   "id": "d5b73fc0-7f0c-40f1-a55b-14aec51d30e2",
   "metadata": {},
   "source": [
    "# Automated analysis of the property from section 5.2\n",
    "This is a simple example of how ultrametric integral cryptanalysis can be automated. For a more complete and performant implementation, we refer to the rest of the code in this repository.\n",
    "\n",
    "In this example we will perform the same analysis as in section 5.2, but automated. That is, we will analyse a four round property with the dominant trail approximation of Theorem 5.1 with $\\Lambda = \\emptyset$. We will go through the following steps:\n",
    "1) Compute the ultrametric integral transition matrix of the PRESENT SBox and the conditions for non-zero correlation trail transition and the corresponding factor of the correlation.\n",
    "2) Implement conditions for the transition through the key-addition\n",
    "3) Model the PRESENT round function\n",
    "4) Model the input set\n",
    "5) Construct and evaluate the complete model for 4 rounds of PRESENT"
   ]
  },
  {
   "cell_type": "code",
   "execution_count": 1,
   "id": "810fbcb4-95eb-4379-afc9-90cf48eb46c5",
   "metadata": {},
   "outputs": [],
   "source": [
    "import numpy as np\n",
    "## 1 Ultrametric integral transition matrix\n",
    "\n",
    "# Computes the ultrametric transition matrix of a vectorial Boolean function\n",
    "def UT_matrix(f, input_size, output_size):\n",
    "    def row_transform(M):\n",
    "        ns = M.shape[0] // 2\n",
    "        if ns > 0:\n",
    "            x = row_transform(M[:ns, :])\n",
    "            y = row_transform(M[ns:, :])\n",
    "        else:\n",
    "            return M\n",
    "        return np.vstack([x+y, y])\n",
    "\n",
    "    def column_transform(M):\n",
    "        ns = M.shape[1] // 2\n",
    "        if ns > 0:\n",
    "            x = column_transform(M[:, :ns])\n",
    "            y = column_transform(M[:, ns:])\n",
    "        else:\n",
    "            return M\n",
    "        return np.hstack([x, y-x])\n",
    "\n",
    "    # Transition matrix over the natural numbers\n",
    "    res = np.zeros((2**output_size, 2**input_size), dtype='longlong')\n",
    "    for i in range(2**input_size):\n",
    "        res[f(i), i] = 1\n",
    "        \n",
    "    # transform in place to ultrametric transition matrix\n",
    "    res = row_transform(res)\n",
    "    res = column_transform(res)\n",
    "\n",
    "    return res"
   ]
  },
  {
   "cell_type": "code",
   "execution_count": 2,
   "id": "c192dbf1-0757-4be5-9cd0-af55ad36bac7",
   "metadata": {},
   "outputs": [
    {
     "name": "stdout",
     "output_type": "stream",
     "text": [
      "[[ 1  0  0  0  0  0  0  0  0  0  0  0  0  0  0  0]\n",
      " [ 0  1  0  0  1 -2 -1  2  1 -2  0  0 -2  4  2 -4]\n",
      " [ 0  0  1  0  0  0  0 -1  1  0 -1 -1 -1  1  0  2]\n",
      " [ 0  0  0  1  0  0  0 -1  1 -1  0 -1 -1  2  0  0]\n",
      " [ 1  0  0 -1 -1  0  0  2 -1  1  1 -1  2 -1 -2  0]\n",
      " [ 0  1  0 -1  0 -1  0  2  0 -1  1  0  0  2 -1 -2]\n",
      " [ 0  0  1 -1  0  0 -1  1  0  1  0 -1  0  0  0  0]\n",
      " [ 0  0  0  0  0  0  0  0  0  0  1 -1  0  1 -1  0]\n",
      " [ 1 -1 -1  2  0  0  1 -1 -1  2  2 -3  0 -1 -2  2]\n",
      " [ 0  0  0  1  1 -1 -1  1  0  0  1 -2 -1  1  0  0]\n",
      " [ 0  0  0  1  0  0  1 -2  0  1  1 -3  0 -1 -2  4]\n",
      " [ 0  0  0  1  0  0  0 -1  0  0  1 -2  0  0 -1  2]\n",
      " [ 1 -1 -1  1 -1  1  1  0 -1  2  2 -3  1 -2 -2  2]\n",
      " [ 0  0  0  0  0  0  0  1  0  0  1 -1  0  0 -1  0]\n",
      " [ 0  0  0  0  0  0  0  0  0  1  1 -2  0 -1 -1  2]\n",
      " [ 0  0  0  0  0  0  0  0  0  0  1 -1  0  0 -1  1]]\n"
     ]
    }
   ],
   "source": [
    "S = lambda x: [0xC, 5, 6, 0xB, 9, 0, 0xA, 0xD, 3, 0xE, 0xF, 8, 4, 7, 1, 2][x] # PRESENT SBox\n",
    "UTM = UT_matrix(S, 4, 4)\n",
    "print(UTM) # Note that the 2-adic absolute values of the elements are either 0, 1/4, 1/2 or 1"
   ]
  },
  {
   "cell_type": "code",
   "execution_count": 3,
   "id": "ee6d9bb2-9268-467e-9961-c889ed296109",
   "metadata": {},
   "outputs": [],
   "source": [
    "from math import log2\n",
    "# We collect all non-zero correlation transition and -log2 of their corresponding 2-adic absolute value\n",
    "sbox_ultrametric_transition_conditions = []\n",
    "for i in range(16):\n",
    "    for j in range(16):\n",
    "        c = UTM[i, j]\n",
    "        if c != 0:\n",
    "            sbox_ultrametric_transition_conditions.append(tuple((j>>k) & 1 for k in range(4)) + tuple((i>>k) & 1 for k in range(4)) + (int(round(log2(int(abs(c)) & (-int(abs(c)))))), ))"
   ]
  },
  {
   "cell_type": "code",
   "execution_count": 4,
   "id": "638e690a-add1-4156-8bd7-bbe04f7b0e59",
   "metadata": {},
   "outputs": [],
   "source": [
    "## 2 Key addition\n",
    "# from example 4.3 follows that the key addition can be modeled as $u \\preccurlyeq v$\n",
    "def model_key_addition(model, u, v):\n",
    "    for i in range(64):\n",
    "        model.Add(u[i] <= v[i])\n",
    "    return model"
   ]
  },
  {
   "cell_type": "code",
   "execution_count": 5,
   "id": "e14b7042-dfe7-4722-9d07-c42003338353",
   "metadata": {},
   "outputs": [],
   "source": [
    "## 3 Model the round function\n",
    "# We use the AddAllowedAssignments constraint to non-zero correlation sbox transitions, additionally we apply theorem 4.5.2 for the bit permutation and we track -log2 of the 2-adic absolute value of the transition, to use for the bound later.\n",
    "P = [0, 16, 32, 48, 1, 17, 33, 49, 2, 18, 34, 50, 3, 19, 35, 51, 4, 20, 36, 52, 5, 21, 37, 53, 6, 22, 38, 54, 7, 23, 39, 55, 8, 24, 40, 56, 9, 25, 41, 57, 10, 26, 42, 58, 11, 27, 43, 59, 12, 28, 44, 60, 13, 29, 45, 61, 14, 30, 46, 62, 15, 31, 47, 63]\n",
    "def model_round_function(model, u, v):\n",
    "    # variables that track the correlation\n",
    "    cor_vars = [model.NewIntVar(0, 2, \"\") for _ in range(16)]\n",
    "\n",
    "    # for each sbox apply constraints\n",
    "    for i in range(16):\n",
    "        uu = u[4*i: 4*i+4]\n",
    "        vv = [v[P[j]] for j in range(4*i, 4*i+4)]\n",
    "        model.AddAllowedAssignments(uu + vv + cor_vars[i:i+1], sbox_ultrametric_transition_conditions)\n",
    "\n",
    "    # return models and correlation variables for later use\n",
    "    return model, cor_vars"
   ]
  },
  {
   "cell_type": "code",
   "execution_count": 6,
   "id": "b9273792-e3dc-4e0e-a9cf-195b2d8dbca4",
   "metadata": {},
   "outputs": [],
   "source": [
    "# we apply example 4.1 to model the input set $u \\and \\mathbb{F}_2^n$ in the ultrametric integral basis\n",
    "def model_input_set(model, u, v):\n",
    "    cor_vars = [model.NewBoolVar(\"\") for _ in range(64)]\n",
    "    for i in range(64):\n",
    "        model.Add(v[i] <= u[i])\n",
    "        model.Add(cor_vars[i] == u[i] - v[i])\n",
    "    return model, cor_vars"
   ]
  },
  {
   "cell_type": "code",
   "execution_count": 7,
   "id": "c60b43e7-c970-4809-9caa-e0666f9bacf8",
   "metadata": {},
   "outputs": [
    {
     "name": "stdout",
     "output_type": "stream",
     "text": [
      "All trails have 2-adic absolute value <= 0.25\n"
     ]
    }
   ],
   "source": [
    "## 5 build a complete model\n",
    "from ortools.sat.python import cp_model\n",
    "\n",
    "# input and output exponents\n",
    "u = [1, 0, 0, 0]*4 + [0]*48 # we skip the first round, as the input set saturates an sbox of the first layer.\n",
    "v = [0, 1] + [0]*62\n",
    "\n",
    "# The model\n",
    "model = cp_model.CpModel()\n",
    "\n",
    "# We track input and output exponents before and after the key addition and round function\n",
    "exponents = [[model.NewBoolVar(\"\") for _ in range(64)] for _ in range(7)]\n",
    "# We also track all variables that influence the correlation of the trail\n",
    "cor_vars = []\n",
    "\n",
    "# input set constraints\n",
    "model, ecv = model_input_set(model, u, exponents[0])\n",
    "cor_vars += ecv\n",
    "\n",
    "# output function condition\n",
    "for i in range(64):\n",
    "    model.Add(exponents[-1][i] == v[i])\n",
    "\n",
    "# model rounds\n",
    "for r in range(3):\n",
    "    model = model_key_addition(model, *exponents[2*r:2*(r+1)])\n",
    "    model, ecv = model_round_function(model,  *exponents[2*r+1:2*(r+1)+1])\n",
    "    cor_vars += ecv\n",
    "\n",
    "# get maximum correlation over all trails\n",
    "model.Minimize(sum(cor_vars))\n",
    "\n",
    "# setup solver\n",
    "solver = cp_model.CpSolver()\n",
    "status = solver.Solve(model)\n",
    "# depending on the status of the solver, print the results and a message\n",
    "if status == cp_model.OPTIMAL:\n",
    "    print(f\"All trails have 2-adic absolute value <= {2**-solver.ObjectiveValue()}\")\n",
    "elif status == cp_model.INFEASIBLE:\n",
    "    print(\"All trails have 2-adic absolute value 0\")\n",
    "else:\n",
    "    print(\"error\")"
   ]
  },
  {
   "cell_type": "markdown",
   "id": "3af7af94-1206-4caa-8701-cc7c34342bee",
   "metadata": {},
   "source": [
    "In conclusion, we can validate the result from section 5.2 programmatically."
   ]
  }
 ],
 "metadata": {
  "kernelspec": {
   "display_name": "Python 3 (ipykernel)",
   "language": "python",
   "name": "python3"
  },
  "language_info": {
   "codemirror_mode": {
    "name": "ipython",
    "version": 3
   },
   "file_extension": ".py",
   "mimetype": "text/x-python",
   "name": "python",
   "nbconvert_exporter": "python",
   "pygments_lexer": "ipython3",
   "version": "3.11.6"
  }
 },
 "nbformat": 4,
 "nbformat_minor": 5
}
